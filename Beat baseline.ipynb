{
 "cells": [
  {
   "cell_type": "code",
   "execution_count": 1,
   "metadata": {},
   "outputs": [],
   "source": [
    "# Import libraries and set desired options\n",
    "import pickle\n",
    "import numpy as np\n",
    "import pandas as pd\n",
    "from scipy.sparse import csr_matrix, hstack\n",
    "from sklearn.preprocessing import StandardScaler\n",
    "from sklearn.metrics import roc_auc_score\n",
    "from sklearn.linear_model import LogisticRegression\n",
    "from matplotlib import pyplot as plt\n",
    "import seaborn as sns\n",
    "import warnings\n",
    "warnings.filterwarnings('ignore')"
   ]
  },
  {
   "cell_type": "code",
   "execution_count": 2,
   "metadata": {},
   "outputs": [],
   "source": [
    "# Read the training and test data sets, change paths if needed\n",
    "train_df = pd.read_csv('all/train_sessions.csv',\n",
    "                       index_col='session_id')\n",
    "test_df = pd.read_csv('all/test_sessions.csv',\n",
    "                      index_col='session_id')"
   ]
  },
  {
   "cell_type": "code",
   "execution_count": 3,
   "metadata": {},
   "outputs": [],
   "source": [
    "# Convert time1, ..., time10 columns to datetime type\n",
    "times = ['time%s' % i for i in range(1, 11)]\n",
    "train_df[times] = train_df[times].apply(pd.to_datetime)\n",
    "test_df[times] = test_df[times].apply(pd.to_datetime)\n",
    "\n",
    "# Sort the data by time\n",
    "train_df = train_df.sort_values(by='time1')"
   ]
  },
  {
   "cell_type": "code",
   "execution_count": 4,
   "metadata": {},
   "outputs": [
    {
     "name": "stdout",
     "output_type": "stream",
     "text": [
      "Websites total: 48371\n"
     ]
    }
   ],
   "source": [
    "# Change site1, ..., site10 columns type to integer and fill NA-values with zeros\n",
    "sites = ['site%s' % i for i in range(1, 11)]\n",
    "train_df[sites] = train_df[sites].fillna(0).astype(np.uint16)\n",
    "test_df[sites] = test_df[sites].fillna(0).astype(np.uint16)\n",
    "\n",
    "# Load websites dictionary\n",
    "with open(r\"all/site_dic.pkl\", \"rb\") as input_file:\n",
    "    site_dict = pickle.load(input_file)\n",
    "\n",
    "# Create dataframe for the dictionary\n",
    "sites_dict = pd.DataFrame(list(site_dict.keys()), index=list(site_dict.values()), columns=['site'])\n",
    "print(u'Websites total:', sites_dict.shape[0])"
   ]
  },
  {
   "cell_type": "code",
   "execution_count": 5,
   "metadata": {},
   "outputs": [],
   "source": [
    "# Меняю местами key и value в словарике и удаляю 'www', что бы лишнего шума не создовать\n",
    "site_dict_inv = dict((v,k.replace('www.', '')) for k,v in site_dict.items())"
   ]
  },
  {
   "cell_type": "code",
   "execution_count": 6,
   "metadata": {},
   "outputs": [],
   "source": [
    "# Our target variable\n",
    "y_train = train_df['target']\n",
    "\n",
    "# United dataframe of the initial data \n",
    "full_df = pd.concat([train_df.drop('target', axis=1), test_df])\n",
    "\n",
    "# Index to split the training and test data sets\n",
    "idx_split = train_df.shape[0]\n",
    "idx_valid = int(np.round(idx_split * 0.8))"
   ]
  },
  {
   "cell_type": "code",
   "execution_count": 7,
   "metadata": {},
   "outputs": [],
   "source": [
    "# Create a separate dataframe where we will work with timestamps\n",
    "time_df = pd.DataFrame(index=full_df.index)\n",
    "# Find sessions' starting and ending\n",
    "time_df['min'] = full_df[times].min(axis=1)\n",
    "time_df['max'] = full_df[times].max(axis=1)\n",
    "# Calculate sessions' duration in seconds\n",
    "time_df['seconds'] = (time_df['max'] - time_df['min']) / np.timedelta64(1, 's')"
   ]
  },
  {
   "cell_type": "code",
   "execution_count": 8,
   "metadata": {},
   "outputs": [],
   "source": [
    "# Dataframe with indices of visited websites in session\n",
    "full_sites = full_df[sites]"
   ]
  },
  {
   "cell_type": "code",
   "execution_count": 9,
   "metadata": {},
   "outputs": [],
   "source": [
    "def get_auc_lr_valid(X, y, C=1.0, seed=17, ratio = 0.9):\n",
    "    # Split the data into the training and validation sets\n",
    "    idx = int(round(X.shape[0] * ratio))\n",
    "    # Classifier training\n",
    "    lr = LogisticRegression(C=C, random_state=seed, solver='liblinear').fit(X[:idx, :], y[:idx])\n",
    "    # Prediction for validation set\n",
    "    y_pred = lr.predict_proba(X[idx:, :])[:, 1]\n",
    "    # Calculate the quality\n",
    "    score = roc_auc_score(y[idx:], y_pred)\n",
    "    \n",
    "    return score"
   ]
  },
  {
   "cell_type": "code",
   "execution_count": 10,
   "metadata": {},
   "outputs": [],
   "source": [
    "# Dataframe for new features\n",
    "full_new_feat = pd.DataFrame(index=full_df.index)\n",
    "\n",
    "# Add start_month feature\n",
    "full_new_feat['start_month'] = full_df['time1'].apply(lambda ts: \n",
    "                                                      100 * ts.year + ts.month).astype('float64')\n",
    "full_new_feat['start_hour'] = full_df['time1'].dt.hour\n",
    "full_new_feat['morning'] = full_new_feat['start_hour'].apply(lambda x: 1 if x <= 11 else 0)"
   ]
  },
  {
   "cell_type": "markdown",
   "metadata": {},
   "source": [
    "### Посмотрю распределение классов на трейне и валидации"
   ]
  },
  {
   "cell_type": "code",
   "execution_count": 11,
   "metadata": {},
   "outputs": [
    {
     "data": {
      "text/plain": [
       "0    200876\n",
       "1      1973\n",
       "Name: target, dtype: int64"
      ]
     },
     "execution_count": 11,
     "metadata": {},
     "output_type": "execute_result"
    }
   ],
   "source": [
    "y_train[:idx_valid].value_counts()"
   ]
  },
  {
   "cell_type": "code",
   "execution_count": 12,
   "metadata": {},
   "outputs": [
    {
     "data": {
      "text/plain": [
       "0    50388\n",
       "1      324\n",
       "Name: target, dtype: int64"
      ]
     },
     "execution_count": 12,
     "metadata": {},
     "output_type": "execute_result"
    }
   ],
   "source": [
    "y_train[idx_valid:].value_counts()"
   ]
  },
  {
   "cell_type": "markdown",
   "metadata": {},
   "source": [
    "### Это baseline"
   ]
  },
  {
   "cell_type": "code",
   "execution_count": 16,
   "metadata": {},
   "outputs": [],
   "source": [
    "Cs = 0.1668100537200059"
   ]
  },
  {
   "cell_type": "code",
   "execution_count": 15,
   "metadata": {},
   "outputs": [],
   "source": [
    "feat_one = StandardScaler().fit_transform(full_new_feat[['start_month', 'start_hour', 'morning']])\n",
    "X_train = csr_matrix(hstack([full_sites_sparse[:idx_split,:],\n",
    "                             feat_one[:idx_split,:]]))\n",
    "get_auc_lr_valid(X_train, y_train, C=Cs)"
   ]
  },
  {
   "cell_type": "markdown",
   "metadata": {},
   "source": [
    "### Делаю TfIdf матрицу"
   ]
  },
  {
   "cell_type": "code",
   "execution_count": 11,
   "metadata": {},
   "outputs": [],
   "source": [
    "from sklearn.feature_extraction.text import TfidfTransformer\n",
    "from sklearn.feature_extraction.text import TfidfVectorizer\n",
    "from sklearn.model_selection import TimeSeriesSplit, cross_val_score, GridSearchCV"
   ]
  },
  {
   "cell_type": "code",
   "execution_count": 12,
   "metadata": {},
   "outputs": [],
   "source": [
    "# Добавляю колонку где будут указаны сайты в виде текста\n",
    "full_df['text'] = full_df[sites].apply(lambda x: \" \".join([str(site_dict_inv[a]) for a in x.values if a != 0]), axis=1)"
   ]
  },
  {
   "cell_type": "code",
   "execution_count": 18,
   "metadata": {},
   "outputs": [],
   "source": [
    "tf_idf = TfidfVectorizer(ngram_range=(1, 3), max_features=50000)\n",
    "full_tfidf = tf_idf.fit_transform(full_df['text'])"
   ]
  },
  {
   "cell_type": "code",
   "execution_count": 17,
   "metadata": {},
   "outputs": [],
   "source": [
    "time_split = TimeSeriesSplit(n_splits=10)\n",
    "logit = LogisticRegression(C=Cs, random_state=17)\n",
    "cross = cross_val_score(logit, full_tfidf[:idx_valid, :], y_train[:idx_valid], cv=time_split, error_score='roc_auc', n_jobs=-1)"
   ]
  },
  {
   "cell_type": "code",
   "execution_count": 18,
   "metadata": {},
   "outputs": [
    {
     "data": {
      "text/plain": [
       "(array([0.96854664, 0.99392625, 0.98497831, 0.99408894, 0.9989154 ,\n",
       "        0.98828633, 0.99994577, 0.98953362, 0.99962039, 0.97993492]),\n",
       " 0.9897776572668112)"
      ]
     },
     "execution_count": 18,
     "metadata": {},
     "output_type": "execute_result"
    }
   ],
   "source": [
    "cross, cross.mean()"
   ]
  },
  {
   "cell_type": "code",
   "execution_count": 69,
   "metadata": {},
   "outputs": [],
   "source": [
    "#tmp = LogisticRegression(penalty='l1', random_state=17)\n",
    "#tmp.fit(full_tfidf[:idx_valid, :], y_train[:idx_valid])\n",
    "#roc_auc_score(y_train[idx_valid:], tmp.predict_proba(full_tfidf[idx_valid:idx_split, :])[:, 1])\n",
    "#y_test = np.round(tmp.predict_proba(full_tfidf[idx_split:, :])[:, 1])\n",
    "#pd.DataFrame(y_test, index=np.arange(1, y_test.shape[0] + 1), columns=['target']).\\\n",
    "#        to_csv('subs/test.csv', index_label=\"session_id\")"
   ]
  },
  {
   "cell_type": "markdown",
   "metadata": {},
   "source": [
    "**Только tf_idf фичи показывают хорошие результаты на кросс-валидации и отложенной выборке, но ужастные на лидер борде**  \n",
    "На отложенной - 92  \n",
    "На лидер борде - 53"
   ]
  },
  {
   "cell_type": "markdown",
   "metadata": {},
   "source": [
    "### Теперь сделаю Count_Vectorizer и проверю его результаты без временных фичей"
   ]
  },
  {
   "cell_type": "code",
   "execution_count": 19,
   "metadata": {},
   "outputs": [],
   "source": [
    "from sklearn.feature_extraction.text import CountVectorizer\n",
    "clv = CountVectorizer(ngram_range=(2,3), max_features=50000)"
   ]
  },
  {
   "cell_type": "code",
   "execution_count": 20,
   "metadata": {},
   "outputs": [],
   "source": [
    "with open('full_df_text.txt') as inp_train_file:\n",
    "    full_vectorized = clv.fit_transform(inp_train_file)"
   ]
  },
  {
   "cell_type": "code",
   "execution_count": 21,
   "metadata": {},
   "outputs": [
    {
     "data": {
      "text/plain": [
       "(array([0.96860087, 0.98839479, 0.98313449, 0.99354664, 0.99831887,\n",
       "        0.98861171, 0.99978308, 0.99061822, 0.9994577 , 0.97950108]),\n",
       " 0.9889967462039045)"
      ]
     },
     "execution_count": 21,
     "metadata": {},
     "output_type": "execute_result"
    }
   ],
   "source": [
    "cross = cross_val_score(logit, full_vectorized[:idx_valid, :], y_train[:idx_valid], cv=time_split, error_score='roc_auc', n_jobs=-1)\n",
    "cross, cross.mean()"
   ]
  },
  {
   "cell_type": "code",
   "execution_count": 78,
   "metadata": {},
   "outputs": [],
   "source": [
    "#tmp = LogisticRegression(penalty='l1', random_state=17)\n",
    "#tmp.fit(full_vectorized[:idx_valid, :], y_train[:idx_valid])\n",
    "#roc_auc_score(y_train[idx_valid:], tmp.predict_proba(full_tfidf[idx_valid:idx_split, :])[:, 1])\n",
    "#y_test = np.round(tmp.predict_proba(full_tfidf[idx_split:, :])[:, 1])\n",
    "#pd.DataFrame(y_test, index=np.arange(1, y_test.shape[0] + 1), columns=['target']).\\\n",
    "#        to_csv('subs/test.csv', index_label=\"session_id\")"
   ]
  },
  {
   "cell_type": "markdown",
   "metadata": {},
   "source": [
    "**Результат как и у tf_idf. Хороший результат на кросс-валидации, но плохой на лидер борде**  \n",
    "На кросс - 98  \n",
    "На лидер борде - 50"
   ]
  },
  {
   "cell_type": "markdown",
   "metadata": {},
   "source": [
    "### Начинаю создавать новые фичи"
   ]
  },
  {
   "cell_type": "code",
   "execution_count": 18,
   "metadata": {},
   "outputs": [],
   "source": [
    "new_features = pd.DataFrame(index=full_df.index)\n",
    "new_features['second'] = time_df['seconds']"
   ]
  },
  {
   "cell_type": "code",
   "execution_count": 23,
   "metadata": {},
   "outputs": [
    {
     "data": {
      "text/plain": [
       "(array([0.96854664, 0.99392625, 0.98497831, 0.99408894, 0.9989154 ,\n",
       "        0.98828633, 0.99994577, 0.98953362, 0.99962039, 0.97988069]),\n",
       " 0.989772234273319)"
      ]
     },
     "execution_count": 23,
     "metadata": {},
     "output_type": "execute_result"
    }
   ],
   "source": [
    "tmp_train = csr_matrix(hstack([full_tfidf[:idx_valid, :],\n",
    "                              new_features['second'].values[:idx_valid, np.newaxis]]))\n",
    "cross = cross_val_score(logit, tmp_train, y_train[:idx_valid], cv=time_split, error_score='roc_auc', n_jobs=-1)\n",
    "cross, cross.mean()"
   ]
  },
  {
   "cell_type": "code",
   "execution_count": 19,
   "metadata": {},
   "outputs": [],
   "source": [
    "new_features['month'] = full_df['time1'].dt.month\n",
    "new_features['year'] = full_df['time1'].dt.year\n",
    "new_features['n_unique'] = full_df[sites].apply(lambda x: x[x != 0].nunique(), axis = 1)"
   ]
  },
  {
   "cell_type": "code",
   "execution_count": 39,
   "metadata": {},
   "outputs": [
    {
     "data": {
      "text/plain": [
       "(array([0.96854664, 0.99061822, 0.98232104, 0.5626898 , 0.9989154 ,\n",
       "        0.98828633, 0.99994577, 0.98953362, 0.99962039, 0.97993492]),\n",
       " 0.9460412147505423)"
      ]
     },
     "execution_count": 39,
     "metadata": {},
     "output_type": "execute_result"
    }
   ],
   "source": [
    "sct = StandardScaler()\n",
    "tmp_scaled = sct.fit_transform(new_features)\n",
    "tmp_train = csr_matrix(hstack([full_tfidf[:idx_valid, :],\n",
    "                              tmp_scaled[:idx_valid, :]]))\n",
    "cross = cross_val_score(logit, tmp_train, y_train[:idx_valid], cv=time_split, error_score='roc_auc', n_jobs=-1)\n",
    "cross, cross.mean()"
   ]
  },
  {
   "cell_type": "markdown",
   "metadata": {},
   "source": [
    "Интересно, что год ухудшает результат. Но попробую залить результат с ним и посмотреть на результат"
   ]
  },
  {
   "cell_type": "code",
   "execution_count": 20,
   "metadata": {},
   "outputs": [],
   "source": [
    "new_features['hour'] = full_df['time1'].dt.hour"
   ]
  },
  {
   "cell_type": "code",
   "execution_count": 38,
   "metadata": {},
   "outputs": [
    {
     "data": {
      "text/plain": [
       "(array([0.96854664, 0.99061822, 0.98232104, 0.5626898 , 0.9989154 ,\n",
       "        0.98828633, 0.99994577, 0.98953362, 0.99962039, 0.97993492]),\n",
       " 0.9460412147505423)"
      ]
     },
     "execution_count": 38,
     "metadata": {},
     "output_type": "execute_result"
    }
   ],
   "source": [
    "sct = StandardScaler()\n",
    "tmp_scaled = sct.fit_transform(new_features)\n",
    "tmp_train = csr_matrix(hstack([full_tfidf[:idx_valid, :],\n",
    "                              tmp_scaled[:idx_valid, :]]))\n",
    "cross = cross_val_score(logit, tmp_train, y_train[:idx_valid], cv=time_split, error_score='roc_auc', n_jobs=-1)\n",
    "cross, cross.mean()"
   ]
  },
  {
   "cell_type": "code",
   "execution_count": 47,
   "metadata": {},
   "outputs": [],
   "source": [
    "tmp_train = csr_matrix(hstack([full_tfidf[:idx_split, :],\n",
    "                              sct.fit_transform(new_features)[:idx_split, :]]))\n",
    "tmp_test = csr_matrix(hstack([full_tfidf[idx_split:, :],\n",
    "                             sct.fit_transform(new_features)[idx_split:, :]]))\n",
    "logit.fit(tmp_train, y_train)\n",
    "pred = logit.predict_proba(tmp_test)[:, 1]\n",
    "pd.DataFrame(pred, index=np.arange(1, pred.shape[0] + 1), columns=['target']).to_csv('subs/test.csv', index_label=\"session_id\")"
   ]
  },
  {
   "cell_type": "markdown",
   "metadata": {},
   "source": [
    "На кросс - 94  \n",
    "На лидер борде - 89"
   ]
  },
  {
   "cell_type": "markdown",
   "metadata": {},
   "source": [
    "**Думаю причина того, что tf-idf без временных фичей показывает хороший результат на тесте но плохой на лидер-борде - это наличие новых сайтах при проверке на лидерборде**"
   ]
  },
  {
   "cell_type": "code",
   "execution_count": 21,
   "metadata": {},
   "outputs": [],
   "source": [
    "# Смотрю на дни недели\n",
    "new_features['week_day'] = full_df['time1'].dt.weekday"
   ]
  },
  {
   "cell_type": "code",
   "execution_count": 22,
   "metadata": {},
   "outputs": [
    {
     "data": {
      "text/plain": [
       "<matplotlib.axes._subplots.AxesSubplot at 0x7f51ced5ef60>"
      ]
     },
     "execution_count": 22,
     "metadata": {},
     "output_type": "execute_result"
    },
    {
     "data": {
      "image/png": "[encoded data removed]",
      "text/plain": [
       "<Figure size 1080x216 with 2 Axes>"
      ]
     },
     "metadata": {
      "needs_background": "light"
     },
     "output_type": "display_data"
    }
   ],
   "source": [
    "tmp = pd.concat([new_features[:idx_split]['week_day'], y_train], axis = 1)\n",
    "plt.subplot(1, 2, 1)\n",
    "tmp[tmp.target == 0].groupby('week_day').size().plot(kind = 'bar')\n",
    "plt.subplot(1, 2, 2)\n",
    "tmp[tmp.target == 1].groupby('week_day').size().plot(kind = 'bar', figsize=(15,3))"
   ]
  },
  {
   "cell_type": "code",
   "execution_count": 23,
   "metadata": {},
   "outputs": [],
   "source": [
    "new_features['week_start'] = new_features['week_day'].apply(lambda x: 1 if x in [0,1] else 0)\n",
    "new_features['week_midle'] = new_features['week_day'].apply(lambda x: 1 if x in [3, 4] else 0)\n",
    "new_features.drop('week_day', axis = 1, inplace = True)"
   ]
  },
  {
   "cell_type": "code",
   "execution_count": 24,
   "metadata": {},
   "outputs": [],
   "source": [
    "# Возьму максимальный, минимальный и средний переход между сайтами\n",
    "time_lag = pd.DataFrame(index=full_df.index)\n",
    "time_lag['a1'] = (full_df['time2'] - full_df['time1']).dt.seconds\n",
    "time_lag['a2'] = (full_df['time3'] - full_df['time2']).dt.seconds\n",
    "time_lag['a3'] = (full_df['time4'] - full_df['time3']).dt.seconds\n",
    "time_lag['a4'] = (full_df['time5'] - full_df['time4']).dt.seconds\n",
    "time_lag['a5'] = (full_df['time6'] - full_df['time5']).dt.seconds\n",
    "time_lag['a6'] = (full_df['time7'] - full_df['time6']).dt.seconds\n",
    "time_lag['a7'] = (full_df['time8'] - full_df['time7']).dt.seconds\n",
    "time_lag['a8'] = (full_df['time9'] - full_df['time8']).dt.seconds\n",
    "time_lag['a9'] = (full_df['time10'] - full_df['time9']).dt.seconds\n",
    "time_lag.fillna(999, inplace=True)"
   ]
  },
  {
   "cell_type": "code",
   "execution_count": 25,
   "metadata": {},
   "outputs": [],
   "source": [
    "new_features['mean_time'] = time_lag.apply(lambda x: x[x != 999].mean(), axis = 1)\n",
    "new_features['min_time'] = time_lag.apply(lambda x: x[x != 999].min(), axis = 1)\n",
    "new_features['max_time'] = time_lag.apply(lambda x: x[x != 999].max(), axis = 1)"
   ]
  },
  {
   "cell_type": "code",
   "execution_count": 26,
   "metadata": {},
   "outputs": [],
   "source": [
    "new_features.fillna(0, inplace=True)"
   ]
  },
  {
   "cell_type": "code",
   "execution_count": 108,
   "metadata": {},
   "outputs": [
    {
     "data": {
      "text/plain": [
       "(array([0.96854664, 0.98855748, 0.98237527, 0.52071584, 0.9989154 ,\n",
       "        0.98828633, 0.99994577, 0.98953362, 0.99962039, 0.97993492]),\n",
       " 0.9416431670281995)"
      ]
     },
     "execution_count": 108,
     "metadata": {},
     "output_type": "execute_result"
    }
   ],
   "source": [
    "sct = StandardScaler()\n",
    "tmp_scaled = sct.fit_transform(new_features)\n",
    "tmp_train = csr_matrix(hstack([full_tfidf[:idx_valid, :],\n",
    "                              tmp_scaled[:idx_valid, :]]))\n",
    "cross = cross_val_score(logit, tmp_train, y_train[:idx_valid], cv=time_split, error_score='roc_auc', n_jobs=-1)\n",
    "cross, cross.mean()"
   ]
  },
  {
   "cell_type": "code",
   "execution_count": 109,
   "metadata": {},
   "outputs": [],
   "source": [
    "tmp_train = csr_matrix(hstack([full_tfidf[:idx_split, :],\n",
    "                              sct.fit_transform(new_features)[:idx_split, :]]))\n",
    "tmp_test = csr_matrix(hstack([full_tfidf[idx_split:, :],\n",
    "                             sct.fit_transform(new_features)[idx_split:, :]]))\n",
    "logit.fit(tmp_train, y_train)\n",
    "pred = logit.predict_proba(tmp_test)[:, 1]\n",
    "pd.DataFrame(pred, index=np.arange(1, pred.shape[0] + 1), columns=['target']).to_csv('subs/test.csv', index_label=\"session_id\")"
   ]
  },
  {
   "cell_type": "markdown",
   "metadata": {},
   "source": [
    "На кросс - 94  \n",
    "На лидер борде - 92"
   ]
  },
  {
   "cell_type": "code",
   "execution_count": 27,
   "metadata": {},
   "outputs": [
    {
     "data": {
      "text/plain": [
       "<matplotlib.axes._subplots.AxesSubplot at 0x7f51cebd0a20>"
      ]
     },
     "execution_count": 27,
     "metadata": {},
     "output_type": "execute_result"
    },
    {
     "data": {
      "image/png": "[encoded data removed]",
      "text/plain": [
       "<Figure size 1080x216 with 2 Axes>"
      ]
     },
     "metadata": {
      "needs_background": "light"
     },
     "output_type": "display_data"
    }
   ],
   "source": [
    "# Время дня\n",
    "tmp = pd.concat([new_features[:idx_split]['hour'], y_train], axis = 1)\n",
    "plt.subplot(1, 2, 1)\n",
    "tmp[tmp.target == 0].groupby('hour').size().plot(kind = 'bar')\n",
    "plt.subplot(1, 2, 2)\n",
    "tmp[tmp.target == 1].groupby('hour').size().plot(kind = 'bar', figsize=(15,3))"
   ]
  },
  {
   "cell_type": "code",
   "execution_count": 39,
   "metadata": {},
   "outputs": [],
   "source": [
    "new_features['morning'] = ((new_features.hour >= 7) & (new_features.hour <= 11)).astype('int')\n",
    "new_features['day'] = ((new_features.hour >= 12) & (new_features.hour <= 18)).astype('int')\n",
    "new_features['evening'] = ((new_features.hour >= 19) & (new_features.hour <= 23)).astype('int')\n",
    "new_features['night'] = ((new_features.hour >= 0) & (new_features.hour <= 6)).astype('int')"
   ]
  },
  {
   "cell_type": "markdown",
   "metadata": {},
   "source": [
    "### Нужно проверить, что работает лучше - биннинг или onehot"
   ]
  },
  {
   "cell_type": "code",
   "execution_count": 43,
   "metadata": {},
   "outputs": [
    {
     "data": {
      "text/plain": [
       "(array([0.96854664, 0.98720174, 0.98465293, 0.60303688, 0.9989154 ,\n",
       "        0.98828633, 0.99994577, 0.98953362, 0.99962039, 0.97993492]),\n",
       " 0.9499674620390455)"
      ]
     },
     "execution_count": 43,
     "metadata": {},
     "output_type": "execute_result"
    }
   ],
   "source": [
    "# С бинингом\n",
    "sct = StandardScaler()\n",
    "tmp_scaled = sct.fit_transform(new_features.drop('hour', axis = 1))\n",
    "tmp_train = csr_matrix(hstack([full_tfidf[:idx_valid, :],\n",
    "                              tmp_scaled[:idx_valid, :]]))\n",
    "cross = cross_val_score(logit, tmp_train, y_train[:idx_valid], cv=time_split, error_score='roc_auc', n_jobs=-1)\n",
    "cross, cross.mean()"
   ]
  },
  {
   "cell_type": "code",
   "execution_count": 45,
   "metadata": {},
   "outputs": [],
   "source": [
    "from sklearn.preprocessing import OneHotEncoder"
   ]
  },
  {
   "cell_type": "code",
   "execution_count": 68,
   "metadata": {},
   "outputs": [
    {
     "data": {
      "text/plain": [
       "(array([0.96854664, 0.99360087, 0.98481562, 0.67163774, 0.9989154 ,\n",
       "        0.98828633, 0.99994577, 0.989859  , 0.99962039, 0.97998915]),\n",
       " 0.9575216919739697)"
      ]
     },
     "execution_count": 68,
     "metadata": {},
     "output_type": "execute_result"
    }
   ],
   "source": [
    "# С onehot\n",
    "onehot = OneHotEncoder()\n",
    "tmp_scaled = sct.fit_transform(new_features.drop(['hour', 'morning', 'day', 'evening', 'night'], axis = 1))\n",
    "tmp_onehot = onehot.fit_transform(new_features.hour.values.reshape(-1, 1))\n",
    "tmp_train = csr_matrix(hstack([full_tfidf[:idx_valid, :],\n",
    "                             tmp_scaled[:idx_valid, :],\n",
    "                             tmp_onehot[:idx_valid, :]]))\n",
    "cross = cross_val_score(logit, tmp_train, y_train[:idx_valid], cv=time_split, error_score='roc_auc', n_jobs=-1)\n",
    "cross, cross.mean()"
   ]
  },
  {
   "cell_type": "markdown",
   "metadata": {},
   "source": [
    "### И бининг и onehot улучшают результаты. Хочу глянуть улучится ли результат на кагле"
   ]
  },
  {
   "cell_type": "code",
   "execution_count": 73,
   "metadata": {},
   "outputs": [],
   "source": [
    "tmp_train = csr_matrix(hstack([full_tfidf[:idx_split, :],\n",
    "                              sct.fit_transform(new_features.drop(['hour', 'morning', 'day', 'evening', 'night'], axis = 1))[:idx_split, :],\n",
    "                              onehot.fit_transform(new_features.hour.values.reshape(-1, 1)[:idx_split, :])]))\n",
    "tmp_test = csr_matrix(hstack([full_tfidf[idx_split:, :],\n",
    "                             sct.fit_transform(new_features.drop(['hour', 'morning', 'day', 'evening', 'night'], axis = 1))[idx_split:, :],\n",
    "                             onehot.fit_transform(new_features.hour.values.reshape(-1, 1)[idx_split:, :])]))\n",
    "logit.fit(tmp_train, y_train)\n",
    "pred = logit.predict_proba(tmp_test)[:, 1]\n",
    "pd.DataFrame(pred, index=np.arange(1, pred.shape[0] + 1), columns=['target']).to_csv('subs/test.csv', index_label=\"session_id\")"
   ]
  },
  {
   "cell_type": "markdown",
   "metadata": {},
   "source": [
    "**На кроссвалидации - 95,7**  \n",
    "**На кагле - 93,7**"
   ]
  },
  {
   "cell_type": "code",
   "execution_count": 32,
   "metadata": {},
   "outputs": [],
   "source": [
    "onehot_hours = onehot.fit_transform(new_features.hour.values.reshape(-1, 1))\n",
    "new_features.drop(['hour', 'morning', 'day', 'evening', 'night'], axis = 1, inplace = True)"
   ]
  },
  {
   "cell_type": "code",
   "execution_count": 33,
   "metadata": {},
   "outputs": [
    {
     "data": {
      "text/plain": [
       "<matplotlib.axes._subplots.AxesSubplot at 0x7f51ce2ec358>"
      ]
     },
     "execution_count": 33,
     "metadata": {},
     "output_type": "execute_result"
    },
    {
     "data": {
      "image/png": "[encoded data removed]",
      "text/plain": [
       "<Figure size 1080x216 with 2 Axes>"
      ]
     },
     "metadata": {
      "needs_background": "light"
     },
     "output_type": "display_data"
    }
   ],
   "source": [
    "# Время дня\n",
    "tmp = pd.concat([new_features[:idx_split]['month'], y_train], axis = 1)\n",
    "plt.subplot(1, 2, 1)\n",
    "tmp[tmp.target == 0].groupby('month').size().plot(kind = 'bar')\n",
    "plt.subplot(1, 2, 2)\n",
    "tmp[tmp.target == 1].groupby('month').size().plot(kind = 'bar', figsize=(15,3))"
   ]
  },
  {
   "cell_type": "code",
   "execution_count": 79,
   "metadata": {},
   "outputs": [
    {
     "data": {
      "text/plain": [
       "(array([0.96854664, 0.99370933, 0.98492408, 0.6681128 , 0.9989154 ,\n",
       "        0.98503254, 0.99994577, 0.99007592, 0.99962039, 0.97988069]),\n",
       " 0.956876355748373)"
      ]
     },
     "execution_count": 79,
     "metadata": {},
     "output_type": "execute_result"
    }
   ],
   "source": [
    "# С onehot\n",
    "tmp_scaled = sct.fit_transform(new_features.drop('month', axis = 1))\n",
    "tmp_onehot = onehot.fit_transform(new_features.month.values.reshape(-1, 1))\n",
    "tmp_train = csr_matrix(hstack([full_tfidf[:idx_valid, :],\n",
    "                               onehot_hours[:idx_valid, :],\n",
    "                               tmp_scaled[:idx_valid, :],\n",
    "                               tmp_onehot[:idx_valid, :]]))\n",
    "cross = cross_val_score(logit, tmp_train, y_train[:idx_valid], cv=time_split, error_score='roc_auc', n_jobs=-1)\n",
    "cross, cross.mean()"
   ]
  },
  {
   "cell_type": "markdown",
   "metadata": {},
   "source": [
    "### На дни и месяца onehot не дает результата"
   ]
  },
  {
   "cell_type": "code",
   "execution_count": 88,
   "metadata": {},
   "outputs": [
    {
     "data": {
      "text/plain": [
       "(array([0.96854664, 0.99360087, 0.98481562, 0.66415401, 0.9989154 ,\n",
       "        0.98828633, 0.99994577, 0.989859  , 0.99962039, 0.97998915]),\n",
       " 0.9567733188720174)"
      ]
     },
     "execution_count": 88,
     "metadata": {},
     "output_type": "execute_result"
    }
   ],
   "source": [
    "new_features['week_day'] = full_df.time1.dt.weekday\n",
    "new_features['holiday'] = new_features['week_day'].apply(lambda x: 1 if x > 5 else 0)\n",
    "\n",
    "tmp_scaled = sct.fit_transform(new_features.drop('week_day', axis = 1))\n",
    "tmp_train = csr_matrix(hstack([full_tfidf[:idx_valid, :],\n",
    "                               onehot_hours[:idx_valid, :],\n",
    "                               tmp_scaled[:idx_valid, :]]))\n",
    "cross = cross_val_score(logit, tmp_train, y_train[:idx_valid], cv=time_split, error_score='roc_auc', n_jobs=-1)\n",
    "cross, cross.mean()"
   ]
  },
  {
   "cell_type": "code",
   "execution_count": 36,
   "metadata": {},
   "outputs": [],
   "source": [
    "new_features.drop('week_day', axis = 1, inplace=True)"
   ]
  },
  {
   "cell_type": "markdown",
   "metadata": {},
   "source": [
    "### Это пока все с временными фичами. Нужно будет сделать их перебор. Сейчас буду пробовать сделать что то с сайтами"
   ]
  },
  {
   "cell_type": "code",
   "execution_count": 37,
   "metadata": {},
   "outputs": [],
   "source": [
    "from sklearn.feature_selection import VarianceThreshold"
   ]
  },
  {
   "cell_type": "code",
   "execution_count": 117,
   "metadata": {},
   "outputs": [
    {
     "data": {
      "text/plain": [
       "(336358, 2393)"
      ]
     },
     "execution_count": 117,
     "metadata": {},
     "output_type": "execute_result"
    }
   ],
   "source": [
    "VarianceThreshold(.00005).fit_transform(full_tfidf).shape"
   ]
  },
  {
   "cell_type": "code",
   "execution_count": 118,
   "metadata": {},
   "outputs": [
    {
     "data": {
      "text/plain": [
       "(array([0.96854664, 0.99360087, 0.98481562, 0.66334056, 0.9989154 ,\n",
       "        0.98828633, 0.99994577, 0.98969631, 0.99962039, 0.97988069]),\n",
       " 0.9566648590021692)"
      ]
     },
     "execution_count": 118,
     "metadata": {},
     "output_type": "execute_result"
    }
   ],
   "source": [
    "# С onehot\n",
    "tmp_scaled = sct.fit_transform(new_features)\n",
    "tmp_train = csr_matrix(hstack([VarianceThreshold(.00005).fit_transform(full_tfidf[:idx_valid, :]),\n",
    "                               onehot_hours[:idx_valid, :],\n",
    "                               tmp_scaled[:idx_valid, :]]))\n",
    "cross = cross_val_score(logit, tmp_train, y_train[:idx_valid], cv=time_split, error_score='roc_auc', n_jobs=-1)\n",
    "cross, cross.mean()"
   ]
  },
  {
   "cell_type": "code",
   "execution_count": 116,
   "metadata": {},
   "outputs": [],
   "source": [
    "tmp_tfidf = VarianceThreshold(.0001).fit_transform(full_tfidf)\n",
    "tmp_train = csr_matrix(hstack([tmp_tfidf[:idx_split, :],\n",
    "                              sct.fit_transform(new_features)[:idx_split, :],\n",
    "                              onehot_hours[:idx_split, :]]))\n",
    "tmp_test = csr_matrix(hstack([tmp_tfidf[idx_split:, :],\n",
    "                             sct.transform(new_features)[idx_split:, :],\n",
    "                             onehot_hours[idx_split:, :]]))\n",
    "logit.fit(tmp_train, y_train)\n",
    "pred = logit.predict_proba(tmp_test)[:, 1]\n",
    "pd.DataFrame(pred, index=np.arange(1, pred.shape[0] + 1), columns=['target']).to_csv('subs/mysub5.csv', index_label=\"session_id\")"
   ]
  },
  {
   "cell_type": "markdown",
   "metadata": {},
   "source": [
    "**С таким набором tf-idf переменных я почти не теряю в качестве**  \n",
    "**Попробую добавить еще tf-idf пемененных и отсекать их по дисперсии**"
   ]
  },
  {
   "cell_type": "code",
   "execution_count": 38,
   "metadata": {},
   "outputs": [],
   "source": [
    "tf_idf = TfidfVectorizer(ngram_range=(2, 3), max_features=100000)\n",
    "full_tfidf_combs = tf_idf.fit_transform(full_df['text'])"
   ]
  },
  {
   "cell_type": "code",
   "execution_count": 39,
   "metadata": {},
   "outputs": [],
   "source": [
    "tf_idf = TfidfVectorizer()\n",
    "full_tfidf = tf_idf.fit_transform(full_df['text'])"
   ]
  },
  {
   "cell_type": "code",
   "execution_count": 42,
   "metadata": {},
   "outputs": [
    {
     "data": {
      "text/plain": [
       "(336358, 2287)"
      ]
     },
     "execution_count": 42,
     "metadata": {},
     "output_type": "execute_result"
    }
   ],
   "source": [
    "VarianceThreshold(.00005).fit_transform(full_tfidf_combs).shape"
   ]
  },
  {
   "cell_type": "code",
   "execution_count": 136,
   "metadata": {},
   "outputs": [
    {
     "data": {
      "text/plain": [
       "(336358, 1591)"
      ]
     },
     "execution_count": 136,
     "metadata": {},
     "output_type": "execute_result"
    }
   ],
   "source": [
    "VarianceThreshold(.00005).fit_transform(full_tfidf).shape"
   ]
  },
  {
   "cell_type": "code",
   "execution_count": 41,
   "metadata": {},
   "outputs": [
    {
     "data": {
      "text/plain": [
       "(array([0.96854664, 0.99224512, 0.98481562, 0.65254881, 0.99896963,\n",
       "        0.98882863, 0.99994577, 0.99143167, 0.99962039, 0.97960954]),\n",
       " 0.9556561822125813)"
      ]
     },
     "execution_count": 41,
     "metadata": {},
     "output_type": "execute_result"
    }
   ],
   "source": [
    "# С onehot\n",
    "sct = StandardScaler()\n",
    "tmp_scaled = sct.fit_transform(new_features)\n",
    "tmp_train = csr_matrix(hstack([VarianceThreshold(.00005).fit_transform(full_tfidf)[:idx_valid, :],\n",
    "                               VarianceThreshold(.00005).fit_transform(full_tfidf_combs)[:idx_valid, :],\n",
    "                               onehot_hours[:idx_valid, :],\n",
    "                               tmp_scaled[:idx_valid, :]]))\n",
    "cross = cross_val_score(logit, tmp_train, y_train[:idx_valid], cv=time_split, error_score='roc_auc', n_jobs=-1)\n",
    "cross, cross.mean()"
   ]
  },
  {
   "cell_type": "code",
   "execution_count": null,
   "metadata": {},
   "outputs": [],
   "source": []
  },
  {
   "cell_type": "code",
   "execution_count": null,
   "metadata": {},
   "outputs": [],
   "source": []
  },
  {
   "cell_type": "code",
   "execution_count": null,
   "metadata": {},
   "outputs": [],
   "source": []
  },
  {
   "cell_type": "code",
   "execution_count": null,
   "metadata": {},
   "outputs": [],
   "source": []
  },
  {
   "cell_type": "code",
   "execution_count": null,
   "metadata": {},
   "outputs": [],
   "source": []
  },
  {
   "cell_type": "code",
   "execution_count": null,
   "metadata": {},
   "outputs": [],
   "source": []
  },
  {
   "cell_type": "code",
   "execution_count": null,
   "metadata": {},
   "outputs": [],
   "source": []
  },
  {
   "cell_type": "code",
   "execution_count": null,
   "metadata": {},
   "outputs": [],
   "source": []
  },
  {
   "cell_type": "code",
   "execution_count": null,
   "metadata": {},
   "outputs": [],
   "source": []
  },
  {
   "cell_type": "code",
   "execution_count": null,
   "metadata": {},
   "outputs": [],
   "source": []
  },
  {
   "cell_type": "code",
   "execution_count": null,
   "metadata": {},
   "outputs": [],
   "source": []
  },
  {
   "cell_type": "code",
   "execution_count": null,
   "metadata": {},
   "outputs": [],
   "source": []
  }
 ],
 "metadata": {
  "kernelspec": {
   "display_name": "Python 3",
   "language": "python",
   "name": "python3"
  },
  "language_info": {
   "codemirror_mode": {
    "name": "ipython",
    "version": 3
   },
   "file_extension": ".py",
   "mimetype": "text/x-python",
   "name": "python",
   "nbconvert_exporter": "python",
   "pygments_lexer": "ipython3",
   "version": "3.7.1"
  }
 },
 "nbformat": 4,
 "nbformat_minor": 2
}
