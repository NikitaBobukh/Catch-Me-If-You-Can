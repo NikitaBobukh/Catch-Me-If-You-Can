{
 "cells": [
  {
   "cell_type": "code",
   "execution_count": 2,
   "metadata": {},
   "outputs": [],
   "source": [
    "import numpy as np\n",
    "import pandas as pd\n",
    "from scipy.sparse import hstack, csr_matrix\n",
    "from sklearn.feature_extraction.text import CountVectorizer, TfidfVectorizer\n",
    "from sklearn.model_selection import TimeSeriesSplit, cross_val_score, GridSearchCV\n",
    "from sklearn.metrics import roc_auc_score\n",
    "from sklearn.linear_model import LogisticRegression\n",
    "from sklearn.feature_selection import VarianceThreshold\n",
    "from sklearn.preprocessing import OneHotEncoder, StandardScaler\n",
    "import matplotlib.pyplot as plt\n",
    "import warnings\n",
    "warnings.filterwarnings('ignore')"
   ]
  },
  {
   "cell_type": "code",
   "execution_count": 3,
   "metadata": {},
   "outputs": [],
   "source": [
    "train_df = pd.read_csv('train_sessions.csv',\n",
    "                       index_col='session_id', parse_dates=['time1'])\n",
    "test_df = pd.read_csv('test_sessions.csv',\n",
    "                      index_col='session_id', parse_dates=['time1'])\n",
    "\n",
    "train_df.sort_values('time1', inplace=True)"
   ]
  },
  {
   "cell_type": "code",
   "execution_count": 4,
   "metadata": {},
   "outputs": [],
   "source": [
    "sites = ['site%s' % i for i in range(1, 11)]\n",
    "train_df[sites] = train_df[sites].fillna(0).astype('int')\n",
    "test_df[sites] = test_df[sites].fillna(0).astype('int')\n",
    "\n",
    "\n",
    "y_train = train_df.target.values\n",
    "train_df.drop('target', axis = 1, inplace=True)\n",
    "\n",
    "\n",
    "idx_split = y_train.shape[0]"
   ]
  },
  {
   "cell_type": "code",
   "execution_count": 5,
   "metadata": {},
   "outputs": [],
   "source": [
    "train_df['sites_chain'] = train_df[sites].apply(lambda x: \" \".join([str(a) for a in x]), axis = 1)\n",
    "test_df['sites_chain'] = test_df[sites].apply(lambda x: \" \".join([str(a) for a in x]), axis = 1)"
   ]
  },
  {
   "cell_type": "code",
   "execution_count": 6,
   "metadata": {},
   "outputs": [],
   "source": [
    "CV = CountVectorizer(ngram_range=(1,3), max_features=50000)\n",
    "train_count = CV.fit_transform(train_df.sites_chain.values)\n",
    "test_count = CV.transform(test_df.sites_chain.values)"
   ]
  },
  {
   "cell_type": "code",
   "execution_count": 7,
   "metadata": {},
   "outputs": [],
   "source": [
    "# Создаю класс для временной кросс-валидации\n",
    "time_splite = TimeSeriesSplit(n_splits = 12)\n",
    "\n",
    "logit = LogisticRegression(random_state=17, solver='liblinear', C=1)"
   ]
  },
  {
   "cell_type": "code",
   "execution_count": 8,
   "metadata": {},
   "outputs": [
    {
     "data": {
      "text/plain": [
       "(array([0.60872269, 0.59023693, 0.74276713, 0.87304067, 0.96603495,\n",
       "        0.8395655 , 0.89302288, 0.95672173, 0.90259054, 0.86324522,\n",
       "        0.9298164 , 0.90535097]), 0.8392596331017655)"
      ]
     },
     "execution_count": 8,
     "metadata": {},
     "output_type": "execute_result"
    }
   ],
   "source": [
    "# Проверяем качество и замеряем время\n",
    "cross = cross_val_score(logit, train_count, y_train, cv = time_splite, n_jobs=1, scoring='roc_auc')\n",
    "\n",
    "cross, cross.mean()"
   ]
  },
  {
   "cell_type": "code",
   "execution_count": 9,
   "metadata": {},
   "outputs": [
    {
     "data": {
      "text/plain": [
       "(array([0.66984886, 0.58689845, 0.74977828, 0.87615507, 0.93698034,\n",
       "        0.84467218, 0.90207973, 0.94101084, 0.86448651, 0.88840213,\n",
       "        0.92694919, 0.92248443]), 0.842478833360346)"
      ]
     },
     "execution_count": 9,
     "metadata": {},
     "output_type": "execute_result"
    }
   ],
   "source": [
    "# Все тоже самое, но с tf_idf \n",
    "TF = TfidfVectorizer(ngram_range=(1, 3), max_features=50000)\n",
    "train_tfidf = TF.fit_transform(train_df.sites_chain.values)\n",
    "test_tfidf = TF.transform(test_df.sites_chain.values)\n",
    "\n",
    "cross = cross_val_score(logit, train_tfidf, y_train, cv = time_splite, n_jobs=1, scoring='roc_auc')\n",
    "cross, cross.mean()"
   ]
  },
  {
   "cell_type": "code",
   "execution_count": 10,
   "metadata": {},
   "outputs": [],
   "source": [
    "# Проверяю сабмит\n",
    "logit.fit(train_tfidf, y_train)\n",
    "pred = logit.predict_proba(test_tfidf)[:, 1]\n",
    "\n",
    "pd.DataFrame(pred, index=np.arange(pred.shape[0]) + 1, columns=['target']).to_csv('sub_1.csv', index_label='session_id')"
   ]
  },
  {
   "cell_type": "markdown",
   "metadata": {},
   "source": [
    "**Скор CountVectorizer - 0.9128**  \n",
    "**Скор TF-IDF - 0.9188**"
   ]
  },
  {
   "cell_type": "code",
   "execution_count": 11,
   "metadata": {},
   "outputs": [],
   "source": [
    "# Пробую выкинуть слова с маленькой дисперсией и тренироваться на оставшихся\n",
    "\n",
    "#TF = TfidfVectorizer(ngram_range=(1, 3), max_features=100000)\n",
    "#train_tfidf = TF.fit_transform(train_df.sites_chain.values)\n",
    "#test_tfidf = TF.transform(test_df.sites_chain.values)\n",
    "\n",
    "# Var = VarianceThreshold(threshold=0.000003)\n",
    "# Var.fit(train_tfidf)\n",
    "\n",
    "# print(Var.get_support().sum())\n",
    "\n",
    "# cross = cross_val_score(logit, Var.transform(train_tfidf), y_train, cv = time_splite, n_jobs=1, scoring='roc_auc')\n",
    "# cross, cross.mean()"
   ]
  },
  {
   "cell_type": "markdown",
   "metadata": {},
   "source": [
    "**Добовляю временные фичи**"
   ]
  },
  {
   "cell_type": "code",
   "execution_count": 12,
   "metadata": {},
   "outputs": [],
   "source": [
    "times = ['time%s' % i for i in range(1, 11)]\n",
    "\n",
    "train_df[times] = train_df[times].apply(pd.to_datetime)\n",
    "test_df[times] = test_df[times].apply(pd.to_datetime)\n",
    "\n",
    "full_df = pd.concat([train_df, test_df]).reset_index(drop=True)\n",
    "\n",
    "idx_split = y_train.shape[0]\n",
    "\n",
    "time_features = pd.DataFrame(index=full_df.index)"
   ]
  },
  {
   "cell_type": "code",
   "execution_count": 13,
   "metadata": {},
   "outputs": [
    {
     "data": {
      "text/plain": [
       "(array([0.80781538, 0.69898821, 0.91937891, 0.96442855, 0.94909413,\n",
       "        0.93487243, 0.97807737, 0.8480238 , 0.89527034, 0.9683573 ,\n",
       "        0.96295344, 0.96982248]), 0.9080901946280613)"
      ]
     },
     "execution_count": 13,
     "metadata": {},
     "output_type": "execute_result"
    }
   ],
   "source": [
    "time_features = pd.DataFrame(index=full_df.index)\n",
    "time_features['hour'] = full_df['time1'].dt.hour\n",
    "\n",
    "hour_onehot = pd.get_dummies(time_features.hour)\n",
    "hour_onehot.columns = ['hour' + str(i) for i in hour_onehot.columns]\n",
    "time_features = pd.concat([time_features, hour_onehot], axis = 1)\n",
    "hour_onehot = hour_onehot.columns\n",
    "\n",
    "cross = cross_val_score(logit, \n",
    "                       csr_matrix(hstack([train_tfidf, time_features[hour_onehot].values[:idx_split, :]])),\n",
    "                       y_train, cv = time_splite,\n",
    "                       n_jobs=1, scoring='roc_auc')\n",
    "\n",
    "cross, cross.mean()"
   ]
  },
  {
   "cell_type": "code",
   "execution_count": 14,
   "metadata": {},
   "outputs": [
    {
     "data": {
      "text/plain": [
       "(array([0.63387762, 0.75778535, 0.87197447, 0.91826987, 0.96818928,\n",
       "        0.9225646 , 0.95778047, 0.94569625, 0.92664923, 0.95330479,\n",
       "        0.95025629, 0.95021115]), 0.8963799468130796)"
      ]
     },
     "execution_count": 14,
     "metadata": {},
     "output_type": "execute_result"
    }
   ],
   "source": [
    "def add_time_features(input_df):\n",
    "    df = pd.DataFrame(index=input_df.index)\n",
    "    df['hour'] = input_df['time1'].apply(lambda ts: ts.hour)\n",
    "    df['morning'] = ((df.hour >= 7) & (df.hour <= 11)).astype('int')\n",
    "    df['day'] = ((df.hour >= 12) & (df.hour <= 18)).astype('int')\n",
    "    df['evening'] = ((df.hour >= 19) & (df.hour <= 23)).astype('int')\n",
    "    df['night'] = ((df.hour >= 0) & (df.hour <= 6)).astype('int')\n",
    "    return df.drop('hour', axis = 1)\n",
    "\n",
    "tmp = add_time_features(full_df.fillna(0))\n",
    "\n",
    "cross = cross_val_score(logit, \n",
    "                        hstack([tmp.values[:idx_split, :], train_tfidf]),\n",
    "                       y_train, cv = time_splite,\n",
    "                       n_jobs=1, scoring='roc_auc')\n",
    "\n",
    "cross, cross.mean()"
   ]
  },
  {
   "cell_type": "code",
   "execution_count": 15,
   "metadata": {},
   "outputs": [],
   "source": [
    "# One_hot работает чуть лучше для часов дня. Их оставлю, а биннинг сохраню, что бы потом проверить перебором\n",
    "features_to_check = tmp"
   ]
  },
  {
   "cell_type": "code",
   "execution_count": 16,
   "metadata": {},
   "outputs": [
    {
     "data": {
      "text/plain": [
       "<matplotlib.axes._subplots.AxesSubplot at 0x7f8138210c50>"
      ]
     },
     "execution_count": 16,
     "metadata": {},
     "output_type": "execute_result"
    },
    {
     "data": {
      "image/png": "[encoded data removed]",
      "text/plain": [
       "<Figure size 432x288 with 2 Axes>"
      ]
     },
     "metadata": {
      "needs_background": "light"
     },
     "output_type": "display_data"
    }
   ],
   "source": [
    "time_features['month'] = full_df.time1.dt.month\n",
    "time_features['target'] = np.concatenate([y_train, np.array([999] * test_df.shape[0])])\n",
    "\n",
    "plt.subplot(2, 1, 1)\n",
    "time_features[time_features.target == 0].groupby('month').size().plot(kind = 'bar')\n",
    "plt.subplot(2, 1, 2)\n",
    "time_features[time_features.target == 1].groupby('month').size().plot(kind = 'bar')"
   ]
  },
  {
   "cell_type": "code",
   "execution_count": 17,
   "metadata": {},
   "outputs": [
    {
     "name": "stdout",
     "output_type": "stream",
     "text": [
      "Для OneHot  (array([0.69753488, 0.72683527, 0.92691171, 0.96431124, 0.94736835,\n",
      "       0.94021446, 0.97515356, 0.88959606, 0.90696112, 0.96842024,\n",
      "       0.96395632, 0.9717109 ]), 0.9065811753754724)\n",
      "Для бининга  (array([0.81218968, 0.69395426, 0.92293957, 0.9640927 , 0.94917111,\n",
      "       0.93410123, 0.97802178, 0.85758525, 0.90277521, 0.96858113,\n",
      "       0.96394432, 0.97069897]), 0.9098379344828258)\n"
     ]
    }
   ],
   "source": [
    "def check_cross(tmp_feat, tfidf_df, time_feat):\n",
    "    mix = csr_matrix(hstack([train_tfidf,\n",
    "                            tmp_feat[:idx_split, :],\n",
    "                            time_feat[:idx_split, :]]))\n",
    "    cross = cross_val_score(logit, mix, y_train, cv = time_splite, n_jobs=-1, scoring='roc_auc')\n",
    "    return (cross, cross.mean())\n",
    "\n",
    "\n",
    "    \n",
    "tmp = pd.DataFrame(index=full_df.index)\n",
    "tmp['month'] = full_df.time1.dt.month\n",
    "tmp = pd.concat([tmp, pd.get_dummies(tmp.month, prefix = 'month')], axis = 1)\n",
    "\n",
    "# Выкину month, что бы пока не скейлить\n",
    "print('Для OneHot ', check_cross(tmp.drop('month', axis = 1).values, train_tfidf, time_features.drop(['month', 'hour', 'target'], axis = 1).values))\n",
    "\n",
    "def add_month_features(input_df):\n",
    "    df = pd.DataFrame(index = input_df.index)\n",
    "    df['month'] = input_df.time1.dt.month\n",
    "    df['winter'] = ((df.month == 12) & (df.month <= 2)).astype('int')\n",
    "    df['spring'] = ((df.month >= 3) & (df.month <= 5)).astype('int')\n",
    "    df['summer'] = ((df.month == 6) & (df.month <= 8)).astype('int')\n",
    "    df['fall'] = ((df.month >= 9) & (df.month <= 11)).astype('int')\n",
    "    return df.drop('month', axis = 1)\n",
    "    \n",
    "print('Для бининга ', check_cross(add_month_features(full_df).values, train_tfidf, time_features.drop(['month', 'hour', 'target'], axis = 1).values))"
   ]
  },
  {
   "cell_type": "code",
   "execution_count": 18,
   "metadata": {},
   "outputs": [],
   "source": [
    "# Становится не удобно, что есть фичи которые нужно стандартизировать и таргет мешает. Фичи для стандартизации тоже отдельно выделю\n",
    "features_to_scale = time_features[['hour', 'month']]\n",
    "time_features = time_features.drop(['hour', 'month', 'target'], axis = 1)\n",
    "time_features = pd.concat([time_features, tmp.drop('month', axis = 1)], axis = 1)\n",
    "features_to_check = pd.concat([features_to_check, add_month_features(full_df)], axis = 1)"
   ]
  },
  {
   "cell_type": "code",
   "execution_count": 19,
   "metadata": {},
   "outputs": [
    {
     "name": "stdout",
     "output_type": "stream",
     "text": [
      "С новыми фичами  (array([0.72286815, 0.74807704, 0.76462428, 0.96403783, 0.90421115,\n",
      "       0.94323927, 0.97536912, 0.87533454, 0.90279573, 0.96950057,\n",
      "       0.96195656, 0.97253296]), 0.8920456007487423)\n"
     ]
    }
   ],
   "source": [
    "def add_mix_features(df):\n",
    "    '''\n",
    "    Сделаю: количество посещенных сайтов, количество уникальных, год, количество секунд от первого до последнего, среднее время на сайте\n",
    "    '''\n",
    "    tmp_df = pd.DataFrame(df.time1.dt.year)\n",
    "    tmp_df['min'] = df[times].min(axis = 1)\n",
    "    tmp_df['max'] = df[times].max(axis = 1)\n",
    "    tmp_df['seconds'] = (tmp_df['max'] - tmp_df['min']).dt.seconds\n",
    "    tmp_df['count'] = df[sites].apply(lambda x: np.sum(x != 0), axis = 1)\n",
    "    tmp_df['n_unique'] = df[sites].apply(lambda x: x[x != 0].nunique(), axis = 1)\n",
    "    tmp_df['mean_seconds'] = tmp_df.seconds / tmp_df['count']\n",
    "    tmp_df = tmp_df.drop(['min', 'max'], axis = 1)\n",
    "    return tmp_df\n",
    "\n",
    "scl = StandardScaler()\n",
    "\n",
    "tmp = add_mix_features(full_df)\n",
    "\n",
    "print('С новыми фичами ', check_cross(scl.fit_transform(tmp.values), train_tfidf, time_features.values))"
   ]
  },
  {
   "cell_type": "code",
   "execution_count": 20,
   "metadata": {},
   "outputs": [],
   "source": [
    "# Эти фичи не дают результата сохраню их пока отдельно\n",
    "features_to_check = pd.concat([features_to_check, tmp], axis = 1)"
   ]
  },
  {
   "cell_type": "code",
   "execution_count": 21,
   "metadata": {},
   "outputs": [
    {
     "data": {
      "text/plain": [
       "(array([0.73043763, 0.72874022, 0.761608  , 0.9643032 , 0.8732152 ,\n",
       "        0.9405637 , 0.97518805, 0.88954229, 0.9072689 , 0.96845526,\n",
       "        0.96243828, 0.97173118]), 0.8894576605535555)"
      ]
     },
     "execution_count": 21,
     "metadata": {},
     "output_type": "execute_result"
    }
   ],
   "source": [
    "# Добавлю еще порядковый месяц\n",
    "tmp = pd.DataFrame(index=full_df.index)\n",
    "tmp['year']  = full_df.time1.dt.year\n",
    "tmp['number_month'] = features_to_scale.month + 12 * (tmp.year - 2013)\n",
    "tmp['yyyymm'] = tmp.year * 100 + features_to_scale.month\n",
    "\n",
    "tmp_features = scl.fit_transform(tmp.values)\n",
    "\n",
    "check_cross(tmp_features, train_tfidf, time_features.values)"
   ]
  },
  {
   "cell_type": "code",
   "execution_count": 22,
   "metadata": {},
   "outputs": [],
   "source": [
    "# Тоже результата не дали фичи. Буду перебирать потом\n",
    "features_to_scale = pd.concat([features_to_scale, tmp], axis = 1)"
   ]
  },
  {
   "cell_type": "code",
   "execution_count": 23,
   "metadata": {},
   "outputs": [
    {
     "data": {
      "text/plain": [
       "<matplotlib.axes._subplots.AxesSubplot at 0x7f813493f278>"
      ]
     },
     "execution_count": 23,
     "metadata": {},
     "output_type": "execute_result"
    },
    {
     "data": {
      "image/png": "[encoded data removed]",
      "text/plain": [
       "<Figure size 432x288 with 2 Axes>"
      ]
     },
     "metadata": {
      "needs_background": "light"
     },
     "output_type": "display_data"
    }
   ],
   "source": [
    "# Посмотрю какое распределение по дням недели\n",
    "tmp = pd.DataFrame(index=full_df.index)\n",
    "tmp['week_day'] = full_df.time1.dt.weekday\n",
    "tmp['target'] = np.concatenate([y_train, np.array([999] * test_df.shape[0])])\n",
    "\n",
    "plt.subplot(2, 1, 1)\n",
    "tmp[tmp.target == 0].groupby('week_day').size().plot(kind = 'bar')\n",
    "plt.subplot(2, 1, 2)\n",
    "tmp[tmp.target == 1].groupby('week_day').size().plot(kind = 'bar')"
   ]
  },
  {
   "cell_type": "code",
   "execution_count": 24,
   "metadata": {},
   "outputs": [
    {
     "data": {
      "text/plain": [
       "(array([0.70238622, 0.82310808, 0.94634725, 0.87521564, 0.95685434,\n",
       "        0.89441358, 0.98163982, 0.89146582, 0.90041551, 0.98103122,\n",
       "        0.83472622, 0.98643392]), 0.8978364697068665)"
      ]
     },
     "execution_count": 24,
     "metadata": {},
     "output_type": "execute_result"
    }
   ],
   "source": [
    "# Кажется Алиса совсем не заходит по средам и выходным\n",
    "tmp = tmp.drop('target', axis = 1)\n",
    "tmp = pd.concat([tmp, pd.get_dummies(tmp.week_day, prefix = 'week_day')], axis = 1)\n",
    "tmp['weekend'] = tmp.week_day.apply(lambda x: 1 if x >= 5 else 0)\n",
    "\n",
    "check_cross(tmp.values, train_tfidf, time_features.values)"
   ]
  },
  {
   "cell_type": "code",
   "execution_count": 25,
   "metadata": {},
   "outputs": [],
   "source": [
    "# Пока результата на кросс-валидации лучше чем 0.909 не получается. Есть еще идеи по фичам, но хочу перебрать имеющиеся и найти лучшую комбинацию.\n",
    "from mlxtend.feature_selection import SequentialFeatureSelector"
   ]
  },
  {
   "cell_type": "code",
   "execution_count": 59,
   "metadata": {},
   "outputs": [
    {
     "name": "stderr",
     "output_type": "stream",
     "text": [
      "[Parallel(n_jobs=1)]: Using backend SequentialBackend with 1 concurrent workers.\n",
      "[Parallel(n_jobs=1)]: Done   1 out of   1 | elapsed:    1.4s remaining:    0.0s\n",
      "[Parallel(n_jobs=1)]: Done  13 out of  13 | elapsed:   17.4s finished\n",
      "\n",
      "[2019-03-06 19:06:55] Features: 1/13 -- score: 0.7554789276035248[Parallel(n_jobs=1)]: Using backend SequentialBackend with 1 concurrent workers.\n",
      "[Parallel(n_jobs=1)]: Done   1 out of   1 | elapsed:    2.0s remaining:    0.0s\n",
      "[Parallel(n_jobs=1)]: Done  12 out of  12 | elapsed:   23.4s finished\n",
      "\n",
      "[2019-03-06 19:07:18] Features: 2/13 -- score: 0.8051532636798459[Parallel(n_jobs=1)]: Using backend SequentialBackend with 1 concurrent workers.\n",
      "[Parallel(n_jobs=1)]: Done   1 out of   1 | elapsed:    2.4s remaining:    0.0s\n",
      "[Parallel(n_jobs=1)]: Done  11 out of  11 | elapsed:   23.8s finished\n",
      "\n",
      "[2019-03-06 19:07:42] Features: 3/13 -- score: 0.8117686817854218[Parallel(n_jobs=1)]: Using backend SequentialBackend with 1 concurrent workers.\n",
      "[Parallel(n_jobs=1)]: Done   1 out of   1 | elapsed:    2.6s remaining:    0.0s\n",
      "[Parallel(n_jobs=1)]: Done  10 out of  10 | elapsed:   23.9s finished\n",
      "\n",
      "[2019-03-06 19:08:06] Features: 4/13 -- score: 0.8146302382048863[Parallel(n_jobs=1)]: Using backend SequentialBackend with 1 concurrent workers.\n",
      "[Parallel(n_jobs=1)]: Done   1 out of   1 | elapsed:    3.0s remaining:    0.0s\n",
      "[Parallel(n_jobs=1)]: Done   9 out of   9 | elapsed:   24.8s finished\n",
      "\n",
      "[2019-03-06 19:08:31] Features: 5/13 -- score: 0.8168573937721367[Parallel(n_jobs=1)]: Using backend SequentialBackend with 1 concurrent workers.\n",
      "[Parallel(n_jobs=1)]: Done   1 out of   1 | elapsed:    3.6s remaining:    0.0s\n",
      "[Parallel(n_jobs=1)]: Done   8 out of   8 | elapsed:   28.5s finished\n",
      "\n",
      "[2019-03-06 19:08:59] Features: 6/13 -- score: 0.8169301015122846[Parallel(n_jobs=1)]: Using backend SequentialBackend with 1 concurrent workers.\n",
      "[Parallel(n_jobs=1)]: Done   1 out of   1 | elapsed:    4.0s remaining:    0.0s\n",
      "[Parallel(n_jobs=1)]: Done   7 out of   7 | elapsed:   31.0s finished\n",
      "\n",
      "[2019-03-06 19:09:30] Features: 7/13 -- score: 0.8169920582799923[Parallel(n_jobs=1)]: Using backend SequentialBackend with 1 concurrent workers.\n",
      "[Parallel(n_jobs=1)]: Done   1 out of   1 | elapsed:    5.3s remaining:    0.0s\n",
      "[Parallel(n_jobs=1)]: Done   6 out of   6 | elapsed:   27.9s finished\n",
      "\n",
      "[2019-03-06 19:09:58] Features: 8/13 -- score: 0.8169932770130388[Parallel(n_jobs=1)]: Using backend SequentialBackend with 1 concurrent workers.\n",
      "[Parallel(n_jobs=1)]: Done   1 out of   1 | elapsed:    4.4s remaining:    0.0s\n",
      "[Parallel(n_jobs=1)]: Done   5 out of   5 | elapsed:   23.1s finished\n",
      "\n",
      "[2019-03-06 19:10:21] Features: 9/13 -- score: 0.8169932770130388[Parallel(n_jobs=1)]: Using backend SequentialBackend with 1 concurrent workers.\n",
      "[Parallel(n_jobs=1)]: Done   1 out of   1 | elapsed:    4.6s remaining:    0.0s\n",
      "[Parallel(n_jobs=1)]: Done   4 out of   4 | elapsed:   18.7s finished\n",
      "\n",
      "[2019-03-06 19:10:40] Features: 10/13 -- score: 0.8169932770130388[Parallel(n_jobs=1)]: Using backend SequentialBackend with 1 concurrent workers.\n",
      "[Parallel(n_jobs=1)]: Done   1 out of   1 | elapsed:    4.6s remaining:    0.0s\n",
      "[Parallel(n_jobs=1)]: Done   3 out of   3 | elapsed:   14.4s finished\n",
      "\n",
      "[2019-03-06 19:10:54] Features: 11/13 -- score: 0.8163945875437935[Parallel(n_jobs=1)]: Using backend SequentialBackend with 1 concurrent workers.\n",
      "[Parallel(n_jobs=1)]: Done   1 out of   1 | elapsed:    5.1s remaining:    0.0s\n",
      "[Parallel(n_jobs=1)]: Done   2 out of   2 | elapsed:   10.5s finished\n",
      "\n",
      "[2019-03-06 19:11:05] Features: 12/13 -- score: 0.8026775408549582[Parallel(n_jobs=1)]: Using backend SequentialBackend with 1 concurrent workers.\n",
      "[Parallel(n_jobs=1)]: Done   1 out of   1 | elapsed:    5.6s remaining:    0.0s\n",
      "[Parallel(n_jobs=1)]: Done   1 out of   1 | elapsed:    5.6s finished\n",
      "\n",
      "[2019-03-06 19:11:10] Features: 13/13 -- score: 0.7529390541266783"
     ]
    }
   ],
   "source": [
    "sfs = SequentialFeatureSelector(logit,\n",
    "                               k_features=13,\n",
    "                               forward=True,\n",
    "                               verbose=2,\n",
    "                               scoring='roc_auc',\n",
    "                               cv=time_splite)\n",
    "sfs_res = sfs.fit(scl.fit_transform(features_to_check.values)[:idx_split, :], y_train)"
   ]
  },
  {
   "cell_type": "code",
   "execution_count": 60,
   "metadata": {},
   "outputs": [
    {
     "data": {
      "text/plain": [
       "{'feature_idx': (1, 2, 5, 7, 9, 10, 12),\n",
       " 'cv_scores': array([0.79607409, 0.81951204, 0.80164337, 0.75537131, 0.79023301,\n",
       "        0.83150109, 0.86544321, 0.8644056 , 0.81823895, 0.88187768,\n",
       "        0.78350691, 0.79609744]),\n",
       " 'avg_score': 0.8169920582799923,\n",
       " 'feature_names': ('1', '2', '5', '7', '9', '10', '12')}"
      ]
     },
     "execution_count": 60,
     "metadata": {},
     "output_type": "execute_result"
    }
   ],
   "source": [
    "sfs_res.subsets_[7]"
   ]
  },
  {
   "cell_type": "code",
   "execution_count": 68,
   "metadata": {},
   "outputs": [
    {
     "data": {
      "text/plain": [
       "array([[0, 1, 0, ..., 0, 0, 0],\n",
       "       [0, 1, 0, ..., 0, 0, 0],\n",
       "       [0, 1, 0, ..., 0, 0, 0],\n",
       "       ...,\n",
       "       [0, 0, 0, ..., 0, 0, 0],\n",
       "       [0, 0, 0, ..., 0, 0, 0],\n",
       "       [0, 0, 0, ..., 0, 0, 0]], dtype=uint8)"
      ]
     },
     "execution_count": 68,
     "metadata": {},
     "output_type": "execute_result"
    }
   ],
   "source": [
    "time_features.values[:idx_split, :]"
   ]
  },
  {
   "cell_type": "code",
   "execution_count": 80,
   "metadata": {},
   "outputs": [
    {
     "name": "stderr",
     "output_type": "stream",
     "text": [
      "[Parallel(n_jobs=1)]: Using backend SequentialBackend with 1 concurrent workers.\n",
      "[Parallel(n_jobs=1)]: Done   1 out of   1 | elapsed:    0.6s remaining:    0.0s\n",
      "[Parallel(n_jobs=1)]: Done  29 out of  29 | elapsed:   15.5s finished\n",
      "\n",
      "[2019-03-06 19:30:08] Features: 1/29 -- score: 0.6275654107923658[Parallel(n_jobs=1)]: Using backend SequentialBackend with 1 concurrent workers.\n",
      "[Parallel(n_jobs=1)]: Done   1 out of   1 | elapsed:    0.6s remaining:    0.0s\n",
      "[Parallel(n_jobs=1)]: Done  28 out of  28 | elapsed:   18.1s finished\n",
      "\n",
      "[2019-03-06 19:30:26] Features: 2/29 -- score: 0.7330234023728137[Parallel(n_jobs=1)]: Using backend SequentialBackend with 1 concurrent workers.\n",
      "[Parallel(n_jobs=1)]: Done   1 out of   1 | elapsed:    0.7s remaining:    0.0s\n",
      "[Parallel(n_jobs=1)]: Done  27 out of  27 | elapsed:   20.0s finished\n",
      "\n",
      "[2019-03-06 19:30:46] Features: 3/29 -- score: 0.8074605651632453[Parallel(n_jobs=1)]: Using backend SequentialBackend with 1 concurrent workers.\n",
      "[Parallel(n_jobs=1)]: Done   1 out of   1 | elapsed:    0.7s remaining:    0.0s\n",
      "[Parallel(n_jobs=1)]: Done  26 out of  26 | elapsed:   20.0s finished\n",
      "\n",
      "[2019-03-06 19:31:06] Features: 4/29 -- score: 0.842694083625615[Parallel(n_jobs=1)]: Using backend SequentialBackend with 1 concurrent workers.\n",
      "[Parallel(n_jobs=1)]: Done   1 out of   1 | elapsed:    0.8s remaining:    0.0s\n",
      "[Parallel(n_jobs=1)]: Done  25 out of  25 | elapsed:   20.6s finished\n",
      "\n",
      "[2019-03-06 19:31:26] Features: 5/29 -- score: 0.8734543380115865[Parallel(n_jobs=1)]: Using backend SequentialBackend with 1 concurrent workers.\n",
      "[Parallel(n_jobs=1)]: Done   1 out of   1 | elapsed:    0.9s remaining:    0.0s\n",
      "[Parallel(n_jobs=1)]: Done  24 out of  24 | elapsed:   20.7s finished\n",
      "\n",
      "[2019-03-06 19:31:47] Features: 6/29 -- score: 0.8774323605897738[Parallel(n_jobs=1)]: Using backend SequentialBackend with 1 concurrent workers.\n",
      "[Parallel(n_jobs=1)]: Done   1 out of   1 | elapsed:    0.9s remaining:    0.0s\n",
      "[Parallel(n_jobs=1)]: Done  23 out of  23 | elapsed:   21.0s finished\n",
      "\n",
      "[2019-03-06 19:32:08] Features: 7/29 -- score: 0.8812811999063797[Parallel(n_jobs=1)]: Using backend SequentialBackend with 1 concurrent workers.\n",
      "[Parallel(n_jobs=1)]: Done   1 out of   1 | elapsed:    0.9s remaining:    0.0s\n",
      "[Parallel(n_jobs=1)]: Done  22 out of  22 | elapsed:   20.3s finished\n",
      "\n",
      "[2019-03-06 19:32:29] Features: 8/29 -- score: 0.8829121152537279[Parallel(n_jobs=1)]: Using backend SequentialBackend with 1 concurrent workers.\n",
      "[Parallel(n_jobs=1)]: Done   1 out of   1 | elapsed:    1.0s remaining:    0.0s\n",
      "[Parallel(n_jobs=1)]: Done  21 out of  21 | elapsed:   20.0s finished\n",
      "\n",
      "[2019-03-06 19:32:49] Features: 9/29 -- score: 0.884467245963482[Parallel(n_jobs=1)]: Using backend SequentialBackend with 1 concurrent workers.\n",
      "[Parallel(n_jobs=1)]: Done   1 out of   1 | elapsed:    1.0s remaining:    0.0s\n",
      "[Parallel(n_jobs=1)]: Done  20 out of  20 | elapsed:   19.5s finished\n",
      "\n",
      "[2019-03-06 19:33:08] Features: 10/29 -- score: 0.8857021743889751[Parallel(n_jobs=1)]: Using backend SequentialBackend with 1 concurrent workers.\n",
      "[Parallel(n_jobs=1)]: Done   1 out of   1 | elapsed:    1.0s remaining:    0.0s\n",
      "[Parallel(n_jobs=1)]: Done  19 out of  19 | elapsed:   18.9s finished\n",
      "\n",
      "[2019-03-06 19:33:27] Features: 11/29 -- score: 0.8867823294844592[Parallel(n_jobs=1)]: Using backend SequentialBackend with 1 concurrent workers.\n",
      "[Parallel(n_jobs=1)]: Done   1 out of   1 | elapsed:    1.0s remaining:    0.0s\n",
      "[Parallel(n_jobs=1)]: Done  18 out of  18 | elapsed:   18.0s finished\n",
      "\n",
      "[2019-03-06 19:33:45] Features: 12/29 -- score: 0.8873565855319032[Parallel(n_jobs=1)]: Using backend SequentialBackend with 1 concurrent workers.\n",
      "[Parallel(n_jobs=1)]: Done   1 out of   1 | elapsed:    1.1s remaining:    0.0s\n",
      "[Parallel(n_jobs=1)]: Done  17 out of  17 | elapsed:   18.1s finished\n",
      "\n",
      "[2019-03-06 19:34:03] Features: 13/29 -- score: 0.8874495702255094[Parallel(n_jobs=1)]: Using backend SequentialBackend with 1 concurrent workers.\n",
      "[Parallel(n_jobs=1)]: Done   1 out of   1 | elapsed:    1.1s remaining:    0.0s\n",
      "\n",
      "STOPPING EARLY DUE TO KEYBOARD INTERRUPT..."
     ]
    }
   ],
   "source": [
    "sfs = SequentialFeatureSelector(logit,\n",
    "                               k_features=29,\n",
    "                               forward=True,\n",
    "                               verbose=2,\n",
    "                               scoring='roc_auc',\n",
    "                               cv=TimeSeriesSplit(n_splits = 5))\n",
    "sfs_res_2 = sfs.fit(time_features.values[:idx_split, :], y_train)"
   ]
  },
  {
   "cell_type": "code",
   "execution_count": 81,
   "metadata": {},
   "outputs": [
    {
     "data": {
      "text/plain": [
       "{'feature_idx': (0, 1, 3, 4, 5, 6, 7, 9, 10, 11, 17, 18, 19),\n",
       " 'cv_scores': array([0.82691608, 0.86692016, 0.90179956, 0.92416531, 0.91744674]),\n",
       " 'avg_score': 0.8874495702255094,\n",
       " 'feature_names': ('0',\n",
       "  '1',\n",
       "  '3',\n",
       "  '4',\n",
       "  '5',\n",
       "  '6',\n",
       "  '7',\n",
       "  '9',\n",
       "  '10',\n",
       "  '11',\n",
       "  '17',\n",
       "  '18',\n",
       "  '19')}"
      ]
     },
     "execution_count": 81,
     "metadata": {},
     "output_type": "execute_result"
    }
   ],
   "source": [
    "sfs.subsets_[13]"
   ]
  },
  {
   "cell_type": "code",
   "execution_count": 58,
   "metadata": {},
   "outputs": [
    {
     "name": "stderr",
     "output_type": "stream",
     "text": [
      "[Parallel(n_jobs=1)]: Using backend SequentialBackend with 1 concurrent workers.\n",
      "[Parallel(n_jobs=1)]: Done   1 out of   1 | elapsed:    1.2s remaining:    0.0s\n",
      "[Parallel(n_jobs=1)]: Done   5 out of   5 | elapsed:    6.3s finished\n",
      "\n",
      "[2019-03-06 19:05:53] Features: 1/5 -- score: 0.8113706856380517[Parallel(n_jobs=1)]: Using backend SequentialBackend with 1 concurrent workers.\n",
      "[Parallel(n_jobs=1)]: Done   1 out of   1 | elapsed:    1.4s remaining:    0.0s\n",
      "[Parallel(n_jobs=1)]: Done   4 out of   4 | elapsed:    5.8s finished\n",
      "\n",
      "[2019-03-06 19:05:59] Features: 2/5 -- score: 0.8166575054213413[Parallel(n_jobs=1)]: Using backend SequentialBackend with 1 concurrent workers.\n",
      "[Parallel(n_jobs=1)]: Done   1 out of   1 | elapsed:    1.7s remaining:    0.0s\n",
      "[Parallel(n_jobs=1)]: Done   3 out of   3 | elapsed:    5.1s finished\n",
      "\n",
      "[2019-03-06 19:06:04] Features: 3/5 -- score: 0.8006891973787859[Parallel(n_jobs=1)]: Using backend SequentialBackend with 1 concurrent workers.\n",
      "[Parallel(n_jobs=1)]: Done   1 out of   1 | elapsed:    1.9s remaining:    0.0s\n",
      "[Parallel(n_jobs=1)]: Done   2 out of   2 | elapsed:    3.8s finished\n",
      "\n",
      "[2019-03-06 19:06:08] Features: 4/5 -- score: 0.800200741741354[Parallel(n_jobs=1)]: Using backend SequentialBackend with 1 concurrent workers.\n",
      "[Parallel(n_jobs=1)]: Done   1 out of   1 | elapsed:    2.0s remaining:    0.0s\n",
      "[Parallel(n_jobs=1)]: Done   1 out of   1 | elapsed:    2.0s finished\n",
      "\n",
      "[2019-03-06 19:06:10] Features: 5/5 -- score: 0.7999628877239536"
     ]
    }
   ],
   "source": [
    "sfs = SequentialFeatureSelector(logit,\n",
    "                               k_features=5,\n",
    "                               forward=True,\n",
    "                               verbose=2,\n",
    "                               scoring='roc_auc',\n",
    "                               cv=time_splite)\n",
    "sfs_res_3 = sfs.fit(scl.fit_transform(features_to_scale.values)[:idx_split, :], y_train)"
   ]
  },
  {
   "cell_type": "code",
   "execution_count": 73,
   "metadata": {},
   "outputs": [
    {
     "data": {
      "text/plain": [
       "{'feature_idx': (0, 3),\n",
       " 'cv_scores': array([0.88095308, 0.49317893, 0.8286175 , 0.85902212, 0.93770145,\n",
       "        0.75292028, 0.9059435 , 0.79775286, 0.71009028, 0.86466243,\n",
       "        0.90070202, 0.86834562]),\n",
       " 'avg_score': 0.8166575054213413,\n",
       " 'feature_names': ('0', '3')}"
      ]
     },
     "execution_count": 73,
     "metadata": {},
     "output_type": "execute_result"
    }
   ],
   "source": [
    "sfs_res_3.subsets_[2]"
   ]
  },
  {
   "cell_type": "code",
   "execution_count": null,
   "metadata": {},
   "outputs": [],
   "source": []
  },
  {
   "cell_type": "code",
   "execution_count": null,
   "metadata": {},
   "outputs": [],
   "source": []
  },
  {
   "cell_type": "code",
   "execution_count": null,
   "metadata": {},
   "outputs": [],
   "source": []
  },
  {
   "cell_type": "code",
   "execution_count": null,
   "metadata": {},
   "outputs": [],
   "source": []
  },
  {
   "cell_type": "code",
   "execution_count": null,
   "metadata": {},
   "outputs": [],
   "source": []
  },
  {
   "cell_type": "code",
   "execution_count": null,
   "metadata": {},
   "outputs": [],
   "source": []
  },
  {
   "cell_type": "code",
   "execution_count": null,
   "metadata": {},
   "outputs": [],
   "source": []
  },
  {
   "cell_type": "code",
   "execution_count": null,
   "metadata": {},
   "outputs": [],
   "source": []
  },
  {
   "cell_type": "code",
   "execution_count": 98,
   "metadata": {},
   "outputs": [
    {
     "data": {
      "text/plain": [
       "(array([0.70876947, 0.72572094, 0.90260115, 0.95023356, 0.92288544,\n",
       "        0.92504239, 0.97876685, 0.79801194, 0.86047502, 0.96982407,\n",
       "        0.95084859, 0.96777055]), 0.8884124974772253)"
      ]
     },
     "execution_count": 98,
     "metadata": {},
     "output_type": "execute_result"
    }
   ],
   "source": [
    "tmp = pd.concat([features_to_check.iloc[:, [1, 2, 5, 7, 9, 10, 12]],\n",
    "                 time_features.iloc[:, [0, 1, 3, 4, 5, 6, 7, 9, 10, 11, 17, 18, 19]],\n",
    "                 features_to_scale.iloc[:, [0, 3]]], axis = 1)\n",
    "logit_2 = LogisticRegression(C=0.2154434, random_state=17, n_jobs=-1)\n",
    "cross = cross_val_score(logit_2, csr_matrix(hstack([train_tfidf, scl.fit_transform(tmp.values[:idx_split, :])])), y_train, cv = time_splite, n_jobs=-1, scoring='roc_auc')\n",
    "cross, cross.mean()"
   ]
  },
  {
   "cell_type": "code",
   "execution_count": 99,
   "metadata": {},
   "outputs": [],
   "source": [
    "logit = LogisticRegression(random_state=17, solver='liblinear', C=1.6681005)\n",
    "logit.fit(csr_matrix(hstack([tmp.values[:idx_split, :], train_tfidf])), y_train)\n",
    "pred = logit.predict_proba(csr_matrix(hstack([tmp.values[idx_split:, :], test_tfidf])))\n",
    "\n",
    "pred = pred[:, 1]\n",
    "pd.DataFrame(pred, index=np.arange(1, pred.shape[0] + 1), columns=['target']).\\\n",
    "        to_csv('subs/sub_3.csv', index_label=\"session_id\")"
   ]
  },
  {
   "cell_type": "code",
   "execution_count": 89,
   "metadata": {},
   "outputs": [],
   "source": [
    "pred = pred[:, 1]\n",
    "pd.DataFrame(pred, index=np.arange(1, pred.shape[0] + 1), columns=['target']).\\\n",
    "        to_csv('subs/sub_2.csv', index_label=\"session_id\")"
   ]
  },
  {
   "cell_type": "code",
   "execution_count": null,
   "metadata": {},
   "outputs": [],
   "source": []
  },
  {
   "cell_type": "code",
   "execution_count": null,
   "metadata": {},
   "outputs": [],
   "source": []
  },
  {
   "cell_type": "code",
   "execution_count": null,
   "metadata": {},
   "outputs": [],
   "source": []
  },
  {
   "cell_type": "code",
   "execution_count": null,
   "metadata": {},
   "outputs": [],
   "source": []
  },
  {
   "cell_type": "code",
   "execution_count": null,
   "metadata": {},
   "outputs": [],
   "source": []
  },
  {
   "cell_type": "code",
   "execution_count": null,
   "metadata": {},
   "outputs": [],
   "source": []
  },
  {
   "cell_type": "code",
   "execution_count": null,
   "metadata": {},
   "outputs": [],
   "source": []
  },
  {
   "cell_type": "code",
   "execution_count": null,
   "metadata": {},
   "outputs": [],
   "source": []
  },
  {
   "cell_type": "code",
   "execution_count": null,
   "metadata": {},
   "outputs": [],
   "source": []
  },
  {
   "cell_type": "code",
   "execution_count": null,
   "metadata": {},
   "outputs": [],
   "source": []
  },
  {
   "cell_type": "code",
   "execution_count": null,
   "metadata": {},
   "outputs": [],
   "source": []
  },
  {
   "cell_type": "code",
   "execution_count": null,
   "metadata": {},
   "outputs": [],
   "source": []
  },
  {
   "cell_type": "code",
   "execution_count": null,
   "metadata": {},
   "outputs": [],
   "source": []
  },
  {
   "cell_type": "code",
   "execution_count": null,
   "metadata": {},
   "outputs": [],
   "source": []
  },
  {
   "cell_type": "code",
   "execution_count": null,
   "metadata": {},
   "outputs": [],
   "source": []
  },
  {
   "cell_type": "code",
   "execution_count": null,
   "metadata": {},
   "outputs": [],
   "source": []
  },
  {
   "cell_type": "code",
   "execution_count": null,
   "metadata": {},
   "outputs": [],
   "source": []
  },
  {
   "cell_type": "code",
   "execution_count": null,
   "metadata": {},
   "outputs": [],
   "source": []
  },
  {
   "cell_type": "code",
   "execution_count": null,
   "metadata": {},
   "outputs": [],
   "source": []
  },
  {
   "cell_type": "code",
   "execution_count": null,
   "metadata": {},
   "outputs": [],
   "source": []
  }
 ],
 "metadata": {
  "kernelspec": {
   "display_name": "Python 3",
   "language": "python",
   "name": "python3"
  },
  "language_info": {
   "codemirror_mode": {
    "name": "ipython",
    "version": 3
   },
   "file_extension": ".py",
   "mimetype": "text/x-python",
   "name": "python",
   "nbconvert_exporter": "python",
   "pygments_lexer": "ipython3",
   "version": "3.7.1"
  }
 },
 "nbformat": 4,
 "nbformat_minor": 2
}
