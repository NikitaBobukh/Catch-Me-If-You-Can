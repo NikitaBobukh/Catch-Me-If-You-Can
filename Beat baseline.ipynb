{
 "cells": [
  {
   "cell_type": "code",
   "execution_count": 4,
   "metadata": {},
   "outputs": [],
   "source": [
    "import numpy as np\n",
    "import pandas as pd\n",
    "from scipy.sparse import hstack, csr_matrix\n",
    "from sklearn.feature_extraction.text import CountVectorizer, TfidfVectorizer\n",
    "from sklearn.model_selection import TimeSeriesSplit, cross_val_score, GridSearchCV\n",
    "from sklearn.metrics import roc_auc_score\n",
    "from sklearn.linear_model import LogisticRegression\n",
    "from sklearn.feature_selection import VarianceThreshold\n",
    "from sklearn.preprocessing import OneHotEncoder, StandardScaler\n",
    "import matplotlib.pyplot as plt\n",
    "import pickle\n",
    "import warnings\n",
    "warnings.filterwarnings('ignore')\n",
    "import re"
   ]
  },
  {
   "cell_type": "code",
   "execution_count": 2,
   "metadata": {},
   "outputs": [],
   "source": [
    "train_df = pd.read_csv('train_sessions.csv',\n",
    "                       index_col='session_id', parse_dates=['time1'])\n",
    "test_df = pd.read_csv('test_sessions.csv',\n",
    "                      index_col='session_id', parse_dates=['time1'])\n",
    "\n",
    "train_df.sort_values('time1', inplace=True)\n",
    "\n",
    "y_train = train_df.target\n",
    "\n",
    "train_df.drop('target', axis = 1, inplace=True)"
   ]
  },
  {
   "cell_type": "code",
   "execution_count": 3,
   "metadata": {},
   "outputs": [],
   "source": [
    "with open('site_dic.pkl', 'rb') as f:\n",
    "        site2id = pickle.load(f)\n",
    "        \n",
    "id2site = {v:k for (k, v) in site2id.items()}\n",
    "\n",
    "id2site[0] = 'unknown'"
   ]
  },
  {
   "cell_type": "code",
   "execution_count": 5,
   "metadata": {},
   "outputs": [],
   "source": [
    "sites = ['site%s' % i for i in range(1, 11)]\n",
    "\n",
    "train_df[sites] = train_df[sites].fillna(0).apply(lambda x: x.map(id2site))\n",
    "test_df[sites] = test_df[sites].fillna(0).apply(lambda x: x.map(id2site))\n",
    "\n",
    "train_df[sites] = train_df[sites].applymap(lambda site: re.sub(\"^\\S*?\\.*?www\\S*?\\.\", '', site)) \n",
    "test_df[sites] = test_df[sites].applymap(lambda site: re.sub(\"^\\S*?\\.*?www\\S*?\\.\", '', site)) \n",
    "\n",
    "train_sessions = train_df[sites].apply(lambda row:' '.join([i for i in row]), axis=1).tolist()\n",
    "test_sessions = test_df[sites].apply(lambda row:' '.join([i for i in row]), axis=1).tolist()\n",
    "\n",
    "idf_vec = TfidfVectorizer(ngram_range=(1,5), max_features=50000, tokenizer = lambda s: s.split())\n",
    "train_tfidf = idf_vec.fit_transform(train_sessions)\n",
    "test_tfidf = idf_vec.transform(test_sessions)"
   ]
  },
  {
   "cell_type": "code",
   "execution_count": 6,
   "metadata": {},
   "outputs": [],
   "source": [
    "idx_splite = train_df.shape[0]\n",
    "\n",
    "time_splite = TimeSeriesSplit(n_splits=10)\n",
    "\n",
    "logit = LogisticRegression(C=1, solver='liblinear', random_state=17)\n",
    "\n",
    "cross = cross_val_score(logit, train_tfidf, y_train, cv = time_splite, scoring='roc_auc', n_jobs=4)\n",
    "\n",
    "res = {}\n",
    "res['n_1'] = {'scores' : cross, 'mean' : cross.mean(), 'sd' : cross.std()}"
   ]
  },
  {
   "cell_type": "code",
   "execution_count": 7,
   "metadata": {},
   "outputs": [],
   "source": [
    "# Что бы посмотреть значимость\n",
    "\n",
    "# logit.fit(train_tfidf, y_train)\n",
    "\n",
    "# eli5.show_weights(estimator=logit, feature_names = idf_vec.get_feature_names(), top = 100, include_styles = False)"
   ]
  },
  {
   "cell_type": "code",
   "execution_count": 8,
   "metadata": {},
   "outputs": [
    {
     "data": {
      "image/png": "[encoded data removed]",
      "text/plain": [
       "<Figure size 864x432 with 2 Axes>"
      ]
     },
     "metadata": {
      "needs_background": "light"
     },
     "output_type": "display_data"
    }
   ],
   "source": [
    "import seaborn as sns\n",
    "plt.subplots(1, 2, figsize = (12, 6)) \n",
    "\n",
    "plt.subplot(1, 2, 1)\n",
    "sns.countplot(pd.to_datetime(train_df.time1).dt.hour[y_train == 1])\n",
    "plt.title(\"Alice\")\n",
    "plt.xlabel('Session start hour');\n",
    "\n",
    "plt.subplot(1, 2, 2)\n",
    "sns.countplot(pd.to_datetime(train_df.time1).dt.hour[y_train == 0])\n",
    "plt.title(\"not Alice\")\n",
    "plt.xlabel('Session start hour');"
   ]
  },
  {
   "cell_type": "code",
   "execution_count": 9,
   "metadata": {},
   "outputs": [
    {
     "name": "stdout",
     "output_type": "stream",
     "text": [
      "сравнение батчей \n",
      "         n_1       new  compare\n",
      "0  0.826747  0.888057     True\n",
      "1  0.659157  0.848112     True\n",
      "2  0.862716  0.941546     True\n",
      "3  0.932639  0.944720     True\n",
      "4  0.845871  0.935924     True\n",
      "5  0.889533  0.959599     True\n",
      "6  0.888457  0.946027     True\n",
      "7  0.881465  0.947907     True\n",
      "8  0.920386  0.961107     True\n",
      "9  0.925794  0.961895     True\n",
      "\n",
      "Средние:\n",
      " Новое: 0.93349 \tСтарое:  0.86328\n",
      "\n",
      "SD:\n",
      " Новое: 0.03488 \tСтарое:  0.07546\n"
     ]
    }
   ],
   "source": [
    "def compare(new_cross, res_num):\n",
    "    tmp = pd.DataFrame({res_num : res[res_num]['scores'], \n",
    "                  'new' : new_cross, \n",
    "                  'compare' : res[res_num]['scores'] < new_cross})\n",
    "    print('сравнение батчей \\n', tmp)\n",
    "    print('\\nСредние:\\n', 'Новое:', new_cross.mean().round(5), '\\tСтарое: ', res[res_num]['scores'].mean().round(5))\n",
    "    print('\\nSD:\\n', 'Новое:', new_cross.std().round(5), '\\tСтарое: ', res[res_num]['scores'].std().round(5))\n",
    "\n",
    "full_df = pd.concat([train_df, test_df]).reset_index(drop = True)\n",
    "full_df[['time' + str(x) for x in range(1, 11)]] = full_df[['time' + str(x) for x in range(1, 11)]].apply(pd.to_datetime)\n",
    "full_df[sites] = full_df[sites].fillna(0)\n",
    "\n",
    "time_features = pd.DataFrame(index=full_df.index)\n",
    "time_features['hour'] = full_df.time1.dt.hour\n",
    "time_features['morning'] = ((time_features.hour >= 7) & (time_features.hour <= 11)).astype('int')\n",
    "time_features['day'] = ((time_features.hour >= 12) & (time_features.hour <= 18)).astype('int')\n",
    "time_features['evening'] = ((time_features.hour >= 19) & (time_features.hour <= 23)).astype('int')\n",
    "time_features['night'] = ((time_features.hour >= 0) & (time_features.hour <= 6)).astype('int')\n",
    "\n",
    "time_features = pd.concat([time_features, pd.get_dummies(time_features.hour, prefix = 'hour')], axis = 1)\n",
    "\n",
    "time_features = time_features[['morning', 'day', 'evening', 'hour_8', 'hour_10', 'hour_14', 'hour_23']]\n",
    "\n",
    "cross = cross_val_score(logit, hstack([train_tfidf, time_features.values[:idx_splite]]), y_train, cv = time_splite, scoring='roc_auc', n_jobs=4)\n",
    "compare(cross, 'n_1')\n",
    "\n",
    "res['n_2'] = {'scores' : cross, 'mean' : cross.mean(), 'sd' : cross.std()}"
   ]
  },
  {
   "cell_type": "code",
   "execution_count": 10,
   "metadata": {},
   "outputs": [
    {
     "data": {
      "image/png": "[encoded data removed]",
      "text/plain": [
       "<Figure size 1296x432 with 4 Axes>"
      ]
     },
     "metadata": {
      "needs_background": "light"
     },
     "output_type": "display_data"
    }
   ],
   "source": [
    "plt.subplots(1, 2, figsize = (18, 6)) \n",
    "\n",
    "plt.subplot(2, 2, 1)\n",
    "sns.countplot(pd.to_datetime(train_df.time1).dt.month[y_train == 1])\n",
    "plt.title(\"Alice\")\n",
    "plt.xlabel('Session start hour');\n",
    "\n",
    "plt.subplot(2, 2, 2)\n",
    "sns.countplot(pd.to_datetime(train_df.time1).dt.month[y_train == 0])\n",
    "plt.title(\"not Alice\")\n",
    "plt.xlabel('Session start hour');\n",
    "\n",
    "plt.subplot(2, 2, 3)\n",
    "sns.countplot((pd.to_datetime(train_df.time1).dt.year * 100 + pd.to_datetime(train_df.time1).dt.month)[y_train == 1])\n",
    "plt.title(\"Alice\")\n",
    "plt.xlabel('Session start hour');\n",
    "\n",
    "plt.subplot(2, 2, 4)\n",
    "sns.countplot((pd.to_datetime(train_df.time1).dt.year * 100 + pd.to_datetime(train_df.time1).dt.month)[y_train == 0])\n",
    "plt.title(\"not Alice\")\n",
    "plt.xticks(rotation = -45)\n",
    "plt.xlabel('Session start hour');"
   ]
  },
  {
   "cell_type": "code",
   "execution_count": 11,
   "metadata": {},
   "outputs": [
    {
     "name": "stdout",
     "output_type": "stream",
     "text": [
      "сравнение батчей \n",
      "         n_2       new  compare\n",
      "0  0.888057  0.890139     True\n",
      "1  0.848112  0.850524     True\n",
      "2  0.941546  0.962345     True\n",
      "3  0.944720  0.945684     True\n",
      "4  0.935924  0.936357     True\n",
      "5  0.959599  0.959617     True\n",
      "6  0.946027  0.945409    False\n",
      "7  0.947907  0.947709    False\n",
      "8  0.961107  0.960678    False\n",
      "9  0.961895  0.961918     True\n",
      "\n",
      "Средние:\n",
      " Новое: 0.93604 \tСтарое:  0.93349\n",
      "\n",
      "SD:\n",
      " Новое: 0.03502 \tСтарое:  0.03488\n"
     ]
    }
   ],
   "source": [
    "stnd = StandardScaler()\n",
    "\n",
    "time_features['month'] = full_df.time1.dt.month\n",
    "time_features['year'] = stnd.fit_transform(full_df.time1.dt.year.astype('float64').values.reshape(-1, 1))\n",
    "time_features['yyyymm'] = time_features.year * 100 + time_features.month\n",
    "time_features['yyyymm'] = stnd.fit_transform(time_features.yyyymm.values.reshape(-1, 1))\n",
    "\n",
    "time_features = time_features.drop(['month', 'year'], axis = 1)\n",
    "\n",
    "cross = cross_val_score(logit, hstack([train_tfidf, \n",
    "                                       time_features.values[:idx_splite, :]]), \n",
    "                        y_train, cv = time_splite, scoring='roc_auc', n_jobs=4)\n",
    "\n",
    "compare(cross, 'n_2')\n",
    "res['n_3'] = {'scores' : cross, 'mean' : cross.mean(), 'sd' : cross.std(), 'comment' : 'добавил yyyymm'}"
   ]
  },
  {
   "cell_type": "code",
   "execution_count": 12,
   "metadata": {},
   "outputs": [],
   "source": [
    "# Добавление yyyymm подняло скор на паблике до 0.954"
   ]
  },
  {
   "cell_type": "code",
   "execution_count": 13,
   "metadata": {},
   "outputs": [
    {
     "name": "stdout",
     "output_type": "stream",
     "text": [
      "сравнение батчей \n",
      "         n_3       new  compare\n",
      "0  0.890139  0.885969    False\n",
      "1  0.850524  0.852696     True\n",
      "2  0.962345  0.962822     True\n",
      "3  0.945684  0.945977     True\n",
      "4  0.936357  0.936824     True\n",
      "5  0.959617  0.960589     True\n",
      "6  0.945409  0.946990     True\n",
      "7  0.947709  0.948385     True\n",
      "8  0.960678  0.961852     True\n",
      "9  0.961918  0.962071     True\n",
      "\n",
      "Средние:\n",
      " Новое: 0.93642 \tСтарое:  0.93604\n",
      "\n",
      "SD:\n",
      " Новое: 0.03534 \tСтарое:  0.03502\n"
     ]
    }
   ],
   "source": [
    "# Из месяцов выстрелило только yyyymm, потому что явно видкн тренд к увеличению фрода\n",
    "times = ['time' + str(x) for x in range(1, 11)]\n",
    "\n",
    "time_features['max'] = full_df[times].max(axis = 1)\n",
    "time_features['min'] = full_df[times].min(axis = 1)\n",
    "time_features['seconds'] = (time_features['max'] - time_features['min']).dt.seconds\n",
    "time_features['seconds'] = time_features.seconds / time_features.seconds.max()\n",
    "time_features['counts'] = full_df[sites].apply(lambda x: np.sum(x != 0), axis = 1)\n",
    "time_features['counts'] = time_features['counts'] / time_features['counts'].max()\n",
    "\n",
    "time_features = time_features.drop(['min', 'max'], axis = 1)\n",
    "\n",
    "cross = cross_val_score(logit, hstack([train_tfidf, \n",
    "                                       time_features.values[:idx_splite, :]]), \n",
    "                        y_train, cv = time_splite, scoring='roc_auc', n_jobs=4)\n",
    "\n",
    "compare(cross, 'n_3')"
   ]
  },
  {
   "cell_type": "markdown",
   "metadata": {},
   "source": [
    "**Дни недели**"
   ]
  },
  {
   "cell_type": "code",
   "execution_count": 14,
   "metadata": {},
   "outputs": [
    {
     "data": {
      "image/png": "[encoded data removed]",
      "text/plain": [
       "<Figure size 1296x432 with 2 Axes>"
      ]
     },
     "metadata": {
      "needs_background": "light"
     },
     "output_type": "display_data"
    }
   ],
   "source": [
    "plt.subplots(1, 2, figsize = (18, 6)) \n",
    "\n",
    "plt.subplot(1, 2, 1)\n",
    "sns.countplot(pd.to_datetime(train_df.time1).dt.weekday[y_train == 1])\n",
    "plt.title(\"Alice\")\n",
    "plt.xlabel('Session start hour');\n",
    "\n",
    "plt.subplot(1, 2, 2)\n",
    "sns.countplot(pd.to_datetime(train_df.time1).dt.weekday[y_train == 0])\n",
    "plt.title(\"not Alice\")\n",
    "plt.xlabel('Session start hour');"
   ]
  },
  {
   "cell_type": "code",
   "execution_count": 15,
   "metadata": {},
   "outputs": [
    {
     "name": "stdout",
     "output_type": "stream",
     "text": [
      "сравнение батчей \n",
      "         n_3       new  compare\n",
      "0  0.890139  0.914151     True\n",
      "1  0.850524  0.901982     True\n",
      "2  0.962345  0.904036    False\n",
      "3  0.945684  0.958912     True\n",
      "4  0.936357  0.946936     True\n",
      "5  0.959617  0.976617     True\n",
      "6  0.945409  0.947991     True\n",
      "7  0.947709  0.961701     True\n",
      "8  0.960678  0.806611    False\n",
      "9  0.961918  0.968647     True\n",
      "\n",
      "Средние:\n",
      " Новое: 0.92876 \tСтарое:  0.93604\n",
      "\n",
      "SD:\n",
      " Новое: 0.048 \tСтарое:  0.03502\n"
     ]
    }
   ],
   "source": [
    "time_features['wedsday'] = (full_df.time1.dt.weekday == 2).astype('int')\n",
    "time_features['weekend'] = full_df.time1.dt.weekday.isin([5,6]).astype('int')\n",
    "\n",
    "cross = cross_val_score(logit, hstack([train_tfidf, \n",
    "                                       time_features.values[:idx_splite, :]]), \n",
    "                        y_train, cv = time_splite, scoring='roc_auc', n_jobs=4)\n",
    "\n",
    "compare(cross, 'n_3')\n",
    "res['n_4'] = {'scores' : cross, 'mean' : cross.mean(), 'sd' : cross.std(), 'comment' : 'добавил среду и выходной'}"
   ]
  },
  {
   "cell_type": "code",
   "execution_count": 16,
   "metadata": {},
   "outputs": [
    {
     "name": "stdout",
     "output_type": "stream",
     "text": [
      "сравнение батчей \n",
      "         n_4       new  compare\n",
      "0  0.914151  0.914096    False\n",
      "1  0.901982  0.901923    False\n",
      "2  0.904036  0.903533    False\n",
      "3  0.958912  0.958949     True\n",
      "4  0.946936  0.946933    False\n",
      "5  0.976617  0.976607    False\n",
      "6  0.947991  0.948026     True\n",
      "7  0.961701  0.961699    False\n",
      "8  0.806611  0.806916     True\n",
      "9  0.968647  0.968648     True\n",
      "\n",
      "Средние:\n",
      " Новое: 0.92873 \tСтарое:  0.92876\n",
      "\n",
      "SD:\n",
      " Новое: 0.04795 \tСтарое:  0.048\n"
     ]
    }
   ],
   "source": [
    "time_features['unknown_site'] = full_df[sites].apply(lambda x: 1 if (x == 0).sum() == 0 else 1, axis = 1)\n",
    "\n",
    "cross = cross_val_score(logit, hstack([train_tfidf, \n",
    "                                       time_features.values[:idx_splite, :]]), \n",
    "                        y_train, cv = time_splite, scoring='roc_auc', n_jobs=4)\n",
    "\n",
    "compare(cross, 'n_4')"
   ]
  },
  {
   "cell_type": "code",
   "execution_count": 40,
   "metadata": {},
   "outputs": [
    {
     "name": "stdout",
     "output_type": "stream",
     "text": [
      "Топ сайты для Алисы {'static.ak.facebook.com', 'i1.ytimg.com', 's.ytimg.com', 'r3---sn-gxo5uxg-jqbe.googlevideo.com', 'r4---sn-gxo5uxg-jqbe.googlevideo.com', 'youtube.com', 'twitter.com', 's-static.ak.facebook.com', 'r1---sn-gxo5uxg-jqbe.googlevideo.com', 'r2---sn-gxo5uxg-jqbe.googlevideo.com'}\n",
      "Топ сайты для не Алисы {'blast.ncbi.nlm.nih.gov', 'bing.com', 'mail.google.com', 'accounts.google.com', 'safebrowsing-cache.google.com', 'clients1.google.com', 'plus.google.com', 'annotathon.org', 'ncbi.nlm.nih.gov', 'unknown'}\n"
     ]
    }
   ],
   "source": [
    "alise_site = pd.Series(train_df.loc[y_train == 1, sites].fillna(0).values.flatten()).value_counts()\n",
    "not_alise_site = pd.Series(train_df.loc[y_train == 0, sites].fillna(0).values.flatten()).value_counts()\n",
    "\n",
    "print('Топ сайты для Алисы',\n",
    "     set(alise_site.index[:15].values.tolist()) - set(not_alise_site.index[:15].values.tolist()))\n",
    "\n",
    "print('Топ сайты для не Алисы', \n",
    "      set(not_alise_site.index[:15].values.tolist()) - set(alise_site.index[:15].values.tolist()))"
   ]
  },
  {
   "cell_type": "code",
   "execution_count": 41,
   "metadata": {},
   "outputs": [],
   "source": [
    "top_alise = ['static.ak.facebook.com', 'i1.ytimg.com', 's.ytimg.com', 'r3---sn-gxo5uxg-jqbe.googlevideo.com', \n",
    "             'r4---sn-gxo5uxg-jqbe.googlevideo.com', 'youtube.com', 'twitter.com', \n",
    "             's-static.ak.facebook.com', 'r1---sn-gxo5uxg-jqbe.googlevideo.com', 'r2---sn-gxo5uxg-jqbe.googlevideo.com']\n",
    "\n",
    "top_not_alise = ['blast.ncbi.nlm.nih.gov', 'bing.com', 'mail.google.com', 'accounts.google.com', 'safebrowsing-cache.google.com', \n",
    "                 'clients1.google.com', 'plus.google.com', 'annotathon.org', 'ncbi.nlm.nih.gov']"
   ]
  },
  {
   "cell_type": "code",
   "execution_count": 42,
   "metadata": {},
   "outputs": [
    {
     "name": "stdout",
     "output_type": "stream",
     "text": [
      "сравнение батчей \n",
      "         n_4       new  compare\n",
      "0  0.914151  0.920883     True\n",
      "1  0.901982  0.910604     True\n",
      "2  0.904036  0.908102     True\n",
      "3  0.958912  0.963228     True\n",
      "4  0.946936  0.948281     True\n",
      "5  0.976617  0.976706     True\n",
      "6  0.947991  0.954414     True\n",
      "7  0.961701  0.960701    False\n",
      "8  0.806611  0.833727     True\n",
      "9  0.968647  0.970245     True\n",
      "\n",
      "Средние:\n",
      " Новое: 0.93469 \tСтарое:  0.92876\n",
      "\n",
      "SD:\n",
      " Новое: 0.04095 \tСтарое:  0.048\n"
     ]
    }
   ],
   "source": [
    "time_features['top_alise'] = full_df[sites].apply(lambda x: x.isin(top_alise).sum(), axis = 1)\n",
    "time_features['top_not_alise'] = full_df[sites].apply(lambda x: x.isin(top_not_alise).sum(), axis = 1)\n",
    "\n",
    "cross = cross_val_score(logit, hstack([train_tfidf, \n",
    "                                       time_features.values[:idx_splite, :]]), \n",
    "                        y_train, cv = time_splite, scoring='roc_auc', n_jobs=4)\n",
    "\n",
    "compare(cross, 'n_4')\n",
    "res['n_5'] = {'scores' : cross, 'mean' : cross.mean(), 'sd' : cross.std(), 'comment' : 'добавил популярные сайты'}"
   ]
  },
  {
   "cell_type": "code",
   "execution_count": 432,
   "metadata": {},
   "outputs": [],
   "source": [
    "logit.fit(hstack([train_tfidf, \n",
    "                 time_features.values[:idx_splite, :]]),\n",
    "         y_train)\n",
    "pred = logit.predict_proba(hstack([test_tfidf, \n",
    "                                   time_features.values[idx_splite:, :]]))[:, 1]\n",
    "pd.DataFrame(pred, index=np.arange(1, pred.shape[0] + 1), columns=['target']).\\\n",
    "        to_csv('subs/sub_8.csv', index_label=\"session_id\")"
   ]
  },
  {
   "cell_type": "code",
   "execution_count": 20,
   "metadata": {},
   "outputs": [],
   "source": [
    "sites_features = full_df[sites].applymap(lambda x: len(x.split('.')))\n",
    "s_names = ['len_' + str(x) for x in sites_features.columns]\n",
    "sites_features.columns = s_names\n",
    "sites_features['total_len_no_unknown'] = sites_features[s_names].apply(lambda x: np.sum(x[x != 1]), axis = 1)\n",
    "time_features['total_len'] = sites_features.total_len_no_unknown.apply(lambda x: 1 if x > 50 else 0)"
   ]
  },
  {
   "cell_type": "code",
   "execution_count": 71,
   "metadata": {},
   "outputs": [],
   "source": [
    "train_domain = train_df[sites].applymap(lambda x: x.split('.')[-1])\n",
    "test_domain = test_df[sites].applymap(lambda x: x.split('.')[-1])\n",
    "\n",
    "cnt = CountVectorizer(ngram_range=(1,1))\n",
    "train_domen_sparse = cnt.fit_transform(train_domain.apply(lambda row:' '.join([i for i in row]), axis=1).tolist())\n",
    "test_domen_sparse = cnt.transform(test_domain.apply(lambda row:' '.join([i for i in row]), axis=1).tolist())\n",
    "\n",
    "sites_train_features = pd.DataFrame(index = train_df.index)\n",
    "sites_train_features['gov'] = train_domen_sparse[:, 112].toarray()\n",
    "sites_train_features['cn'] = train_domen_sparse[:, 87].toarray()\n",
    "sites_train_features['edu'] = train_domen_sparse[:, 98].toarray()\n",
    "\n",
    "sites_train_features[['gov', 'cn', 'edu']] = stnd.fit_transform(sites_train_features[['gov', 'cn', 'edu']].astype('float'))\n",
    "\n",
    "sites_test_features = pd.DataFrame(index = test_df.index)\n",
    "sites_test_features['gov'] = test_domen_sparse[:, 112].toarray()\n",
    "sites_test_features['cn'] = test_domen_sparse[:, 87].toarray()\n",
    "sites_test_features['edu'] = test_domen_sparse[:, 98].toarray()\n",
    "\n",
    "sites_test_features[['gov', 'cn', 'edu']] = stnd.fit_transform(sites_test_features[['gov', 'cn', 'edu']].astype('float'))"
   ]
  },
  {
   "cell_type": "code",
   "execution_count": null,
   "metadata": {},
   "outputs": [],
   "source": []
  },
  {
   "cell_type": "code",
   "execution_count": null,
   "metadata": {},
   "outputs": [],
   "source": []
  },
  {
   "cell_type": "code",
   "execution_count": null,
   "metadata": {},
   "outputs": [],
   "source": []
  },
  {
   "cell_type": "code",
   "execution_count": null,
   "metadata": {},
   "outputs": [],
   "source": []
  },
  {
   "cell_type": "code",
   "execution_count": 47,
   "metadata": {},
   "outputs": [],
   "source": [
    "%%time\n",
    "cross = cross_val_score(logit, hstack([train_tfidf, \n",
    "                                       time_features.values[:idx_splite, :]]), \n",
    "                        y_train, cv = time_splite, scoring='roc_auc', n_jobs=-1)\n",
    "\n",
    "compare(cross, 'n_5')\n",
    "res['n_6'] = {'scores' : cross, 'mean' : cross.mean(), 'sd' : cross.std(), 'comment' : 'домены и длины'}"
   ]
  },
  {
   "cell_type": "code",
   "execution_count": 80,
   "metadata": {},
   "outputs": [],
   "source": [
    "time_features['top_scale'] = stnd.fit_transform(time_features[['top_alise']].astype('float'))\n",
    "time_features['top_not_scale'] = stnd.fit_transform(time_features[['top_not_alise']].astype('float'))"
   ]
  },
  {
   "cell_type": "code",
   "execution_count": null,
   "metadata": {},
   "outputs": [],
   "source": []
  },
  {
   "cell_type": "code",
   "execution_count": null,
   "metadata": {},
   "outputs": [],
   "source": []
  },
  {
   "cell_type": "code",
   "execution_count": null,
   "metadata": {},
   "outputs": [],
   "source": []
  },
  {
   "cell_type": "code",
   "execution_count": null,
   "metadata": {},
   "outputs": [],
   "source": []
  },
  {
   "cell_type": "code",
   "execution_count": null,
   "metadata": {},
   "outputs": [],
   "source": []
  }
 ],
 "metadata": {
  "kernelspec": {
   "display_name": "Python 3",
   "language": "python",
   "name": "python3"
  },
  "language_info": {
   "codemirror_mode": {
    "name": "ipython",
    "version": 3
   },
   "file_extension": ".py",
   "mimetype": "text/x-python",
   "name": "python",
   "nbconvert_exporter": "python",
   "pygments_lexer": "ipython3",
   "version": "3.7.1"
  }
 },
 "nbformat": 4,
 "nbformat_minor": 2
}
